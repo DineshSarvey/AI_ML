{
 "cells": [
  {
   "cell_type": "markdown",
   "metadata": {},
   "source": [
    "## Problem Statement"
   ]
  },
  {
   "cell_type": "markdown",
   "metadata": {},
   "source": [
    "## Health Insurance Lead Prediction\n",
    "\n",
    "Client FinMan is a financial services company that provides various financial services like loan, investment funds, insurance etc. to its customers. FinMan wishes to cross-sell health insurance to the existing customers who may or may not hold insurance policies with the company. The company recommend health insurance to it's customers based on their profile once these customers land on the website. Customers might browse the recommended health insurance policy and consequently fill up a form to apply. When these customers fill-up the form, their Response towards the policy is considered positive and they are classified as a lead.\n",
    "\n",
    "Once these leads are acquired, the sales advisors approach them to convert and thus the company can sell proposed health insurance to these leads in a more efficient manner.\n",
    "\n",
    "Now the company needs your help in building a model to predict whether the person will be interested in their proposed Health plan/policy given the information about:\n",
    "\n",
    "Demographics (city, age, region etc.)\n",
    "Information regarding holding policies of the customer\n",
    "Recommended Policy Information\n"
   ]
  },
  {
   "cell_type": "markdown",
   "metadata": {},
   "source": [
    "## Table of Content"
   ]
  },
  {
   "cell_type": "markdown",
   "metadata": {},
   "source": [
    "* __Step 1: Importing the Relevant Libraries__\n",
    "    \n",
    "* __Step 2: Data Inspection__\n",
    "    \n",
    "* __Step 3: Data Cleaning__\n",
    "    \n",
    "* __Step 4: Exploratory Data Analysis__\n",
    "    \n",
    "* __Step 5: Feature Engineering__\n",
    "\n",
    "* __Step 6: Building Model__\n",
    "    \n",
    "* __How to Make a Submission?__\n",
    "* __Guidelines for Final Submission__"
   ]
  },
  {
   "cell_type": "markdown",
   "metadata": {},
   "source": [
    "### Step 1: Importing the Relevant Libraries"
   ]
  },
  {
   "cell_type": "code",
   "execution_count": 1,
   "metadata": {},
   "outputs": [],
   "source": [
    "# Import Required Python Packages :\n",
    "\n",
    "import matplotlib.pyplot as plt\n",
    "import pandas as pd\n",
    "import numpy as np\n",
    "import seaborn as sns\n",
    "\n",
    "from sklearn.preprocessing import LabelEncoder\n",
    "from sklearn.model_selection import train_test_split\n",
    "from sklearn import metrics\n",
    "from sklearn.linear_model import LinearRegression\n",
    "\n",
    "from sklearn.preprocessing import OneHotEncoder\n",
    "from sklearn.compose import ColumnTransformer\n",
    "from sklearn.pipeline import Pipeline\n",
    "from sklearn.model_selection import train_test_split, GridSearchCV\n",
    "from sklearn.metrics import accuracy_score, classification_report\n",
    "\n",
    "# From Logistic to XGB\n",
    "from sklearn.linear_model import LogisticRegression\n",
    "from sklearn.tree import DecisionTreeClassifier\n",
    "from sklearn.ensemble import RandomForestClassifier\n",
    "from xgboost.sklearn import XGBClassifier\n",
    "\n",
    "from sklearn.metrics import roc_curve\n",
    "from sklearn.metrics import roc_auc_score\n",
    "\n",
    "# Setting SEED to Reproduce Same Results even with \"GPU\"\n",
    "seed_value = 1994\n",
    "import os\n",
    "os.environ['PYTHONHASHSEED'] = str(seed_value)\n",
    "import random\n",
    "random.seed(seed_value)\n",
    "import numpy as np\n",
    "np.random.seed(seed_value)\n",
    "SEED=seed_value\n",
    "\n",
    "import warnings\n",
    "warnings.filterwarnings('always')\n",
    "warnings.filterwarnings('ignore')"
   ]
  },
  {
   "cell_type": "code",
   "execution_count": 2,
   "metadata": {},
   "outputs": [],
   "source": [
    "import plotly.express as px"
   ]
  },
  {
   "cell_type": "markdown",
   "metadata": {},
   "source": [
    "### Step 2: Data Inspection"
   ]
  },
  {
   "cell_type": "code",
   "execution_count": 3,
   "metadata": {},
   "outputs": [],
   "source": [
    "train = pd.read_csv(\"train_Df64byy.csv\")\n",
    "test = pd.read_csv(\"test_YCcRUnU.csv\")"
   ]
  },
  {
   "cell_type": "code",
   "execution_count": 4,
   "metadata": {},
   "outputs": [
    {
     "data": {
      "text/plain": [
       "((50882, 14), (21805, 13))"
      ]
     },
     "execution_count": 4,
     "metadata": {},
     "output_type": "execute_result"
    }
   ],
   "source": [
    "train.shape,test.shape"
   ]
  },
  {
   "cell_type": "markdown",
   "metadata": {},
   "source": [
    "* __We have 50882 rows and 14 columns in Train set whereas Test set has 21805 rows and 13 columns.__"
   ]
  },
  {
   "cell_type": "code",
   "execution_count": 5,
   "metadata": {},
   "outputs": [
    {
     "data": {
      "text/plain": [
       "0    38673\n",
       "1    12209\n",
       "Name: Response, dtype: int64"
      ]
     },
     "execution_count": 5,
     "metadata": {},
     "output_type": "execute_result"
    }
   ],
   "source": [
    "train['Response'].value_counts()"
   ]
  },
  {
   "cell_type": "markdown",
   "metadata": {},
   "source": [
    "__We have to keep in mind that the training dataset is imbalanced__"
   ]
  },
  {
   "cell_type": "code",
   "execution_count": 6,
   "metadata": {},
   "outputs": [
    {
     "data": {
      "text/html": [
       "<div>\n",
       "<style scoped>\n",
       "    .dataframe tbody tr th:only-of-type {\n",
       "        vertical-align: middle;\n",
       "    }\n",
       "\n",
       "    .dataframe tbody tr th {\n",
       "        vertical-align: top;\n",
       "    }\n",
       "\n",
       "    .dataframe thead th {\n",
       "        text-align: right;\n",
       "    }\n",
       "</style>\n",
       "<table border=\"1\" class=\"dataframe\">\n",
       "  <thead>\n",
       "    <tr style=\"text-align: right;\">\n",
       "      <th></th>\n",
       "      <th>ID</th>\n",
       "      <th>City_Code</th>\n",
       "      <th>Region_Code</th>\n",
       "      <th>Accomodation_Type</th>\n",
       "      <th>Reco_Insurance_Type</th>\n",
       "      <th>Upper_Age</th>\n",
       "      <th>Lower_Age</th>\n",
       "      <th>Is_Spouse</th>\n",
       "      <th>Health Indicator</th>\n",
       "      <th>Holding_Policy_Duration</th>\n",
       "      <th>Holding_Policy_Type</th>\n",
       "      <th>Reco_Policy_Cat</th>\n",
       "      <th>Reco_Policy_Premium</th>\n",
       "      <th>Response</th>\n",
       "    </tr>\n",
       "  </thead>\n",
       "  <tbody>\n",
       "    <tr>\n",
       "      <th>0</th>\n",
       "      <td>1</td>\n",
       "      <td>C3</td>\n",
       "      <td>3213</td>\n",
       "      <td>Rented</td>\n",
       "      <td>Individual</td>\n",
       "      <td>36</td>\n",
       "      <td>36</td>\n",
       "      <td>No</td>\n",
       "      <td>X1</td>\n",
       "      <td>14+</td>\n",
       "      <td>3.0</td>\n",
       "      <td>22</td>\n",
       "      <td>11628.0</td>\n",
       "      <td>0</td>\n",
       "    </tr>\n",
       "    <tr>\n",
       "      <th>1</th>\n",
       "      <td>2</td>\n",
       "      <td>C5</td>\n",
       "      <td>1117</td>\n",
       "      <td>Owned</td>\n",
       "      <td>Joint</td>\n",
       "      <td>75</td>\n",
       "      <td>22</td>\n",
       "      <td>No</td>\n",
       "      <td>X2</td>\n",
       "      <td>NaN</td>\n",
       "      <td>NaN</td>\n",
       "      <td>22</td>\n",
       "      <td>30510.0</td>\n",
       "      <td>0</td>\n",
       "    </tr>\n",
       "    <tr>\n",
       "      <th>2</th>\n",
       "      <td>3</td>\n",
       "      <td>C5</td>\n",
       "      <td>3732</td>\n",
       "      <td>Owned</td>\n",
       "      <td>Individual</td>\n",
       "      <td>32</td>\n",
       "      <td>32</td>\n",
       "      <td>No</td>\n",
       "      <td>NaN</td>\n",
       "      <td>1.0</td>\n",
       "      <td>1.0</td>\n",
       "      <td>19</td>\n",
       "      <td>7450.0</td>\n",
       "      <td>1</td>\n",
       "    </tr>\n",
       "    <tr>\n",
       "      <th>3</th>\n",
       "      <td>4</td>\n",
       "      <td>C24</td>\n",
       "      <td>4378</td>\n",
       "      <td>Owned</td>\n",
       "      <td>Joint</td>\n",
       "      <td>52</td>\n",
       "      <td>48</td>\n",
       "      <td>No</td>\n",
       "      <td>X1</td>\n",
       "      <td>14+</td>\n",
       "      <td>3.0</td>\n",
       "      <td>19</td>\n",
       "      <td>17780.0</td>\n",
       "      <td>0</td>\n",
       "    </tr>\n",
       "    <tr>\n",
       "      <th>4</th>\n",
       "      <td>5</td>\n",
       "      <td>C8</td>\n",
       "      <td>2190</td>\n",
       "      <td>Rented</td>\n",
       "      <td>Individual</td>\n",
       "      <td>44</td>\n",
       "      <td>44</td>\n",
       "      <td>No</td>\n",
       "      <td>X2</td>\n",
       "      <td>3.0</td>\n",
       "      <td>1.0</td>\n",
       "      <td>16</td>\n",
       "      <td>10404.0</td>\n",
       "      <td>0</td>\n",
       "    </tr>\n",
       "  </tbody>\n",
       "</table>\n",
       "</div>"
      ],
      "text/plain": [
       "   ID City_Code  Region_Code Accomodation_Type Reco_Insurance_Type  Upper_Age  \\\n",
       "0   1        C3         3213            Rented          Individual         36   \n",
       "1   2        C5         1117             Owned               Joint         75   \n",
       "2   3        C5         3732             Owned          Individual         32   \n",
       "3   4       C24         4378             Owned               Joint         52   \n",
       "4   5        C8         2190            Rented          Individual         44   \n",
       "\n",
       "   Lower_Age Is_Spouse Health Indicator Holding_Policy_Duration  \\\n",
       "0         36        No               X1                     14+   \n",
       "1         22        No               X2                     NaN   \n",
       "2         32        No              NaN                     1.0   \n",
       "3         48        No               X1                     14+   \n",
       "4         44        No               X2                     3.0   \n",
       "\n",
       "   Holding_Policy_Type  Reco_Policy_Cat  Reco_Policy_Premium  Response  \n",
       "0                  3.0               22              11628.0         0  \n",
       "1                  NaN               22              30510.0         0  \n",
       "2                  1.0               19               7450.0         1  \n",
       "3                  3.0               19              17780.0         0  \n",
       "4                  1.0               16              10404.0         0  "
      ]
     },
     "execution_count": 6,
     "metadata": {},
     "output_type": "execute_result"
    }
   ],
   "source": [
    "train.head()"
   ]
  },
  {
   "cell_type": "code",
   "execution_count": 7,
   "metadata": {},
   "outputs": [
    {
     "data": {
      "text/html": [
       "<div>\n",
       "<style scoped>\n",
       "    .dataframe tbody tr th:only-of-type {\n",
       "        vertical-align: middle;\n",
       "    }\n",
       "\n",
       "    .dataframe tbody tr th {\n",
       "        vertical-align: top;\n",
       "    }\n",
       "\n",
       "    .dataframe thead th {\n",
       "        text-align: right;\n",
       "    }\n",
       "</style>\n",
       "<table border=\"1\" class=\"dataframe\">\n",
       "  <thead>\n",
       "    <tr style=\"text-align: right;\">\n",
       "      <th></th>\n",
       "      <th>ID</th>\n",
       "      <th>City_Code</th>\n",
       "      <th>Region_Code</th>\n",
       "      <th>Accomodation_Type</th>\n",
       "      <th>Reco_Insurance_Type</th>\n",
       "      <th>Upper_Age</th>\n",
       "      <th>Lower_Age</th>\n",
       "      <th>Is_Spouse</th>\n",
       "      <th>Health Indicator</th>\n",
       "      <th>Holding_Policy_Duration</th>\n",
       "      <th>Holding_Policy_Type</th>\n",
       "      <th>Reco_Policy_Cat</th>\n",
       "      <th>Reco_Policy_Premium</th>\n",
       "    </tr>\n",
       "  </thead>\n",
       "  <tbody>\n",
       "    <tr>\n",
       "      <th>0</th>\n",
       "      <td>50883</td>\n",
       "      <td>C1</td>\n",
       "      <td>156</td>\n",
       "      <td>Owned</td>\n",
       "      <td>Individual</td>\n",
       "      <td>30</td>\n",
       "      <td>30</td>\n",
       "      <td>No</td>\n",
       "      <td>NaN</td>\n",
       "      <td>6.0</td>\n",
       "      <td>3.0</td>\n",
       "      <td>5</td>\n",
       "      <td>11934.0</td>\n",
       "    </tr>\n",
       "    <tr>\n",
       "      <th>1</th>\n",
       "      <td>50884</td>\n",
       "      <td>C4</td>\n",
       "      <td>7</td>\n",
       "      <td>Owned</td>\n",
       "      <td>Joint</td>\n",
       "      <td>69</td>\n",
       "      <td>68</td>\n",
       "      <td>Yes</td>\n",
       "      <td>X1</td>\n",
       "      <td>3.0</td>\n",
       "      <td>3.0</td>\n",
       "      <td>18</td>\n",
       "      <td>32204.8</td>\n",
       "    </tr>\n",
       "    <tr>\n",
       "      <th>2</th>\n",
       "      <td>50885</td>\n",
       "      <td>C1</td>\n",
       "      <td>564</td>\n",
       "      <td>Rented</td>\n",
       "      <td>Individual</td>\n",
       "      <td>28</td>\n",
       "      <td>28</td>\n",
       "      <td>No</td>\n",
       "      <td>X3</td>\n",
       "      <td>2.0</td>\n",
       "      <td>4.0</td>\n",
       "      <td>17</td>\n",
       "      <td>9240.0</td>\n",
       "    </tr>\n",
       "    <tr>\n",
       "      <th>3</th>\n",
       "      <td>50886</td>\n",
       "      <td>C3</td>\n",
       "      <td>1177</td>\n",
       "      <td>Rented</td>\n",
       "      <td>Individual</td>\n",
       "      <td>23</td>\n",
       "      <td>23</td>\n",
       "      <td>No</td>\n",
       "      <td>X3</td>\n",
       "      <td>3.0</td>\n",
       "      <td>3.0</td>\n",
       "      <td>18</td>\n",
       "      <td>9086.0</td>\n",
       "    </tr>\n",
       "    <tr>\n",
       "      <th>4</th>\n",
       "      <td>50887</td>\n",
       "      <td>C1</td>\n",
       "      <td>951</td>\n",
       "      <td>Owned</td>\n",
       "      <td>Individual</td>\n",
       "      <td>75</td>\n",
       "      <td>75</td>\n",
       "      <td>No</td>\n",
       "      <td>X3</td>\n",
       "      <td>NaN</td>\n",
       "      <td>NaN</td>\n",
       "      <td>5</td>\n",
       "      <td>22534.0</td>\n",
       "    </tr>\n",
       "  </tbody>\n",
       "</table>\n",
       "</div>"
      ],
      "text/plain": [
       "      ID City_Code  Region_Code Accomodation_Type Reco_Insurance_Type  \\\n",
       "0  50883        C1          156             Owned          Individual   \n",
       "1  50884        C4            7             Owned               Joint   \n",
       "2  50885        C1          564            Rented          Individual   \n",
       "3  50886        C3         1177            Rented          Individual   \n",
       "4  50887        C1          951             Owned          Individual   \n",
       "\n",
       "   Upper_Age  Lower_Age Is_Spouse Health Indicator Holding_Policy_Duration  \\\n",
       "0         30         30        No              NaN                     6.0   \n",
       "1         69         68       Yes               X1                     3.0   \n",
       "2         28         28        No               X3                     2.0   \n",
       "3         23         23        No               X3                     3.0   \n",
       "4         75         75        No               X3                     NaN   \n",
       "\n",
       "   Holding_Policy_Type  Reco_Policy_Cat  Reco_Policy_Premium  \n",
       "0                  3.0                5              11934.0  \n",
       "1                  3.0               18              32204.8  \n",
       "2                  4.0               17               9240.0  \n",
       "3                  3.0               18               9086.0  \n",
       "4                  NaN                5              22534.0  "
      ]
     },
     "execution_count": 7,
     "metadata": {},
     "output_type": "execute_result"
    }
   ],
   "source": [
    "test.head()"
   ]
  },
  {
   "cell_type": "code",
   "execution_count": 8,
   "metadata": {},
   "outputs": [
    {
     "name": "stdout",
     "output_type": "stream",
     "text": [
      "<class 'pandas.core.frame.DataFrame'>\n",
      "RangeIndex: 50882 entries, 0 to 50881\n",
      "Data columns (total 14 columns):\n",
      " #   Column                   Non-Null Count  Dtype  \n",
      "---  ------                   --------------  -----  \n",
      " 0   ID                       50882 non-null  int64  \n",
      " 1   City_Code                50882 non-null  object \n",
      " 2   Region_Code              50882 non-null  int64  \n",
      " 3   Accomodation_Type        50882 non-null  object \n",
      " 4   Reco_Insurance_Type      50882 non-null  object \n",
      " 5   Upper_Age                50882 non-null  int64  \n",
      " 6   Lower_Age                50882 non-null  int64  \n",
      " 7   Is_Spouse                50882 non-null  object \n",
      " 8   Health Indicator         39191 non-null  object \n",
      " 9   Holding_Policy_Duration  30631 non-null  object \n",
      " 10  Holding_Policy_Type      30631 non-null  float64\n",
      " 11  Reco_Policy_Cat          50882 non-null  int64  \n",
      " 12  Reco_Policy_Premium      50882 non-null  float64\n",
      " 13  Response                 50882 non-null  int64  \n",
      "dtypes: float64(2), int64(6), object(6)\n",
      "memory usage: 5.4+ MB\n"
     ]
    }
   ],
   "source": [
    "train.info()"
   ]
  },
  {
   "cell_type": "code",
   "execution_count": 9,
   "metadata": {},
   "outputs": [
    {
     "data": {
      "text/plain": [
       "ID                          0.000000\n",
       "City_Code                   0.000000\n",
       "Region_Code                 0.000000\n",
       "Accomodation_Type           0.000000\n",
       "Reco_Insurance_Type         0.000000\n",
       "Upper_Age                   0.000000\n",
       "Lower_Age                   0.000000\n",
       "Is_Spouse                   0.000000\n",
       "Health Indicator           22.976691\n",
       "Holding_Policy_Duration    39.799929\n",
       "Holding_Policy_Type        39.799929\n",
       "Reco_Policy_Cat             0.000000\n",
       "Reco_Policy_Premium         0.000000\n",
       "Response                    0.000000\n",
       "dtype: float64"
      ]
     },
     "execution_count": 9,
     "metadata": {},
     "output_type": "execute_result"
    }
   ],
   "source": [
    "#ratio of null values\n",
    "train.isnull().sum()/train.shape[0] *100"
   ]
  },
  {
   "cell_type": "code",
   "execution_count": 10,
   "metadata": {},
   "outputs": [
    {
     "data": {
      "text/plain": [
       "ID                          0.000000\n",
       "City_Code                   0.000000\n",
       "Region_Code                 0.000000\n",
       "Accomodation_Type           0.000000\n",
       "Reco_Insurance_Type         0.000000\n",
       "Upper_Age                   0.000000\n",
       "Lower_Age                   0.000000\n",
       "Is_Spouse                   0.000000\n",
       "Health Indicator           23.054345\n",
       "Holding_Policy_Duration    39.454254\n",
       "Holding_Policy_Type        39.454254\n",
       "Reco_Policy_Cat             0.000000\n",
       "Reco_Policy_Premium         0.000000\n",
       "dtype: float64"
      ]
     },
     "execution_count": 10,
     "metadata": {},
     "output_type": "execute_result"
    }
   ],
   "source": [
    "#ratio of null values\n",
    "test.isnull().sum()/test.shape[0] *100"
   ]
  },
  {
   "cell_type": "markdown",
   "metadata": {},
   "source": [
    "* __We have 23%,40% and 40% of missing values in Health Indicator,Holding_Policy_Duration and Holding_Policy_Type columns respectively.__"
   ]
  },
  {
   "cell_type": "code",
   "execution_count": 11,
   "metadata": {},
   "outputs": [],
   "source": [
    "#rename the attribute\n",
    "train.rename(columns = {'Health Indicator':'Health_Indicator'}, inplace = True)\n",
    "test.rename(columns = {'Health Indicator':'Health_Indicator'}, inplace = True)"
   ]
  },
  {
   "cell_type": "code",
   "execution_count": 12,
   "metadata": {},
   "outputs": [
    {
     "name": "stdout",
     "output_type": "stream",
     "text": [
      "ID\n",
      "[    1     2     3 ... 50880 50881 50882]\n",
      "City_Code\n",
      "['C3' 'C5' 'C24' 'C8' 'C9' 'C1' 'C15' 'C28' 'C27' 'C7' 'C20' 'C25' 'C4'\n",
      " 'C2' 'C34' 'C10' 'C17' 'C18' 'C16' 'C29' 'C33' 'C26' 'C19' 'C6' 'C12'\n",
      " 'C13' 'C11' 'C14' 'C22' 'C23' 'C21' 'C36' 'C32' 'C30' 'C35' 'C31']\n",
      "Region_Code\n",
      "[3213 1117 3732 ... 5326 6149 5450]\n",
      "Accomodation_Type\n",
      "['Rented' 'Owned']\n",
      "Reco_Insurance_Type\n",
      "['Individual' 'Joint']\n",
      "Upper_Age\n",
      "[36 75 32 52 44 28 59 21 66 20 27 34 43 55 23 18 22 25 24 40 26 56 35 63\n",
      " 49 64 67 42 71 57 73 31 19 48 65 54 33 30 69 68 37 29 62 58 38 39 60 41\n",
      " 45 51 46 70 61 74 53 72 50 47]\n",
      "Lower_Age\n",
      "[36 22 32 48 44 52 28 73 43 26 21 47 66 20 27 34 55 23 18 25 24 56 35 63\n",
      " 64 67 75 42 71 68 31 19 65 54 33 74 30 69 29 62 58 39 60 57 41 40 45 37\n",
      " 51 59 49 38 46 70 61 53 16 72 50 17]\n",
      "Is_Spouse\n",
      "['No' 'Yes']\n",
      "Health_Indicator\n",
      "['X1' 'X2' nan 'X4' 'X3' 'X6' 'X5' 'X8' 'X7' 'X9']\n",
      "Holding_Policy_Duration\n",
      "['14+' nan '1.0' '3.0' '5.0' '9.0' '14.0' '7.0' '2.0' '11.0' '10.0' '8.0'\n",
      " '6.0' '4.0' '13.0' '12.0']\n",
      "Holding_Policy_Type\n",
      "[ 3. nan  1.  4.  2.]\n",
      "Reco_Policy_Cat\n",
      "[22 19 16 17  1 18 21 13 20  9  2  4 12  6 14 11  3  8  7 10 15  5]\n",
      "Reco_Policy_Premium\n",
      "[11628. 30510.  7450. ... 25726.  6156. 11374.]\n",
      "Response\n",
      "[0 1]\n"
     ]
    }
   ],
   "source": [
    "# Check train data for Values of each Column - Short Form\n",
    "for col in list(train):\n",
    "    print(col)\n",
    "    print(train[col].unique())"
   ]
  },
  {
   "cell_type": "code",
   "execution_count": 13,
   "metadata": {},
   "outputs": [
    {
     "name": "stdout",
     "output_type": "stream",
     "text": [
      "Categorical Features in Train Set: 6\n",
      "Numerical Features in Train Set: 8\n"
     ]
    }
   ],
   "source": [
    "#categorical features\n",
    "categorical = train.select_dtypes(include =[np.object])\n",
    "print(\"Categorical Features in Train Set:\",categorical.shape[1])\n",
    "\n",
    "#numerical features\n",
    "numerical= train.select_dtypes(include =[np.float64,np.int64])\n",
    "print(\"Numerical Features in Train Set:\",numerical.shape[1])"
   ]
  },
  {
   "cell_type": "code",
   "execution_count": 14,
   "metadata": {},
   "outputs": [
    {
     "name": "stdout",
     "output_type": "stream",
     "text": [
      "Categorical Features in Test Set: 6\n",
      "Numerical Features in Test Set: 7\n"
     ]
    }
   ],
   "source": [
    "#categorical features\n",
    "categorical = test.select_dtypes(include =[np.object])\n",
    "print(\"Categorical Features in Test Set:\",categorical.shape[1])\n",
    "\n",
    "#numerical features\n",
    "numerical= test.select_dtypes(include =[np.float64,np.int64])\n",
    "print(\"Numerical Features in Test Set:\",numerical.shape[1])"
   ]
  },
  {
   "cell_type": "markdown",
   "metadata": {},
   "source": [
    "### Step 3: Data Cleaning"
   ]
  },
  {
   "cell_type": "markdown",
   "metadata": {},
   "source": [
    "__1. Fill/Impute Missing Values Continuous - Mean/Median/Any Specific Value & Categorical - Others/ForwardFill/BackFill :\n",
    "Missing data in the training data set can lead to wrong prediction.__"
   ]
  },
  {
   "cell_type": "code",
   "execution_count": 15,
   "metadata": {},
   "outputs": [
    {
     "data": {
      "text/plain": [
       "ID                             0\n",
       "City_Code                      0\n",
       "Region_Code                    0\n",
       "Accomodation_Type              0\n",
       "Reco_Insurance_Type            0\n",
       "Upper_Age                      0\n",
       "Lower_Age                      0\n",
       "Is_Spouse                      0\n",
       "Health_Indicator           11691\n",
       "Holding_Policy_Duration    20251\n",
       "Holding_Policy_Type        20251\n",
       "Reco_Policy_Cat                0\n",
       "Reco_Policy_Premium            0\n",
       "Response                       0\n",
       "dtype: int64"
      ]
     },
     "execution_count": 15,
     "metadata": {},
     "output_type": "execute_result"
    }
   ],
   "source": [
    "train.isnull().sum()"
   ]
  },
  {
   "cell_type": "code",
   "execution_count": 16,
   "metadata": {},
   "outputs": [
    {
     "data": {
      "text/plain": [
       "ID                            0\n",
       "City_Code                     0\n",
       "Region_Code                   0\n",
       "Accomodation_Type             0\n",
       "Reco_Insurance_Type           0\n",
       "Upper_Age                     0\n",
       "Lower_Age                     0\n",
       "Is_Spouse                     0\n",
       "Health_Indicator           5027\n",
       "Holding_Policy_Duration    8603\n",
       "Holding_Policy_Type        8603\n",
       "Reco_Policy_Cat               0\n",
       "Reco_Policy_Premium           0\n",
       "dtype: int64"
      ]
     },
     "execution_count": 16,
     "metadata": {},
     "output_type": "execute_result"
    }
   ],
   "source": [
    "test.isnull().sum()"
   ]
  },
  {
   "cell_type": "markdown",
   "metadata": {},
   "source": [
    "* Health Indicator,Holding_Policy_Duration and Holding_Policy_Type have some missing values in the data\n",
    "* We can impute the missing values by \"Mode\" from the column since all the 3 attributes that have missing values are Categorical attributes"
   ]
  },
  {
   "cell_type": "code",
   "execution_count": 17,
   "metadata": {},
   "outputs": [],
   "source": [
    "#Imputing Health_Indicator with Mode\n",
    "train['Health_Indicator']= train['Health_Indicator'].fillna(train['Health_Indicator'].mode()[0])\n",
    "test['Health_Indicator']= test['Health_Indicator'].fillna(test['Health_Indicator'].mode()[0])"
   ]
  },
  {
   "cell_type": "code",
   "execution_count": 18,
   "metadata": {},
   "outputs": [],
   "source": [
    "#Imputing with Zero's\n",
    "\n",
    "train['Holding_Policy_Duration']=train['Holding_Policy_Duration'].fillna(0)\n",
    "test['Holding_Policy_Duration']=test['Holding_Policy_Duration'].fillna(0)"
   ]
  },
  {
   "cell_type": "code",
   "execution_count": 19,
   "metadata": {},
   "outputs": [],
   "source": [
    "#Imputing with Zero's\n",
    "#train['Holding_Policy_Type']= train['Holding_Policy_Type'].fillna(train['Holding_Policy_Type'].mode()[0])\n",
    "#test['Holding_Policy_Type']= test['Holding_Policy_Type'].fillna(test['Holding_Policy_Type'].mode()[0])\n",
    "train['Holding_Policy_Type']= train['Holding_Policy_Type'].fillna(0)\n",
    "test['Holding_Policy_Type']= test['Holding_Policy_Type'].fillna(0)"
   ]
  },
  {
   "cell_type": "markdown",
   "metadata": {},
   "source": [
    "* __Checking if there are any missing values__"
   ]
  },
  {
   "cell_type": "code",
   "execution_count": 20,
   "metadata": {},
   "outputs": [
    {
     "data": {
      "text/plain": [
       "(0, 0)"
      ]
     },
     "execution_count": 20,
     "metadata": {},
     "output_type": "execute_result"
    }
   ],
   "source": [
    "train['Health_Indicator'].isnull().sum(),test['Health_Indicator'].isnull().sum()"
   ]
  },
  {
   "cell_type": "code",
   "execution_count": 21,
   "metadata": {},
   "outputs": [
    {
     "data": {
      "text/plain": [
       "(0, 0)"
      ]
     },
     "execution_count": 21,
     "metadata": {},
     "output_type": "execute_result"
    }
   ],
   "source": [
    "train['Holding_Policy_Duration'].isnull().sum(),test['Holding_Policy_Duration'].isnull().sum()"
   ]
  },
  {
   "cell_type": "code",
   "execution_count": 22,
   "metadata": {},
   "outputs": [
    {
     "data": {
      "text/plain": [
       "(0, 0)"
      ]
     },
     "execution_count": 22,
     "metadata": {},
     "output_type": "execute_result"
    }
   ],
   "source": [
    "train['Holding_Policy_Type'].isnull().sum(),test['Holding_Policy_Type'].isnull().sum()"
   ]
  },
  {
   "cell_type": "markdown",
   "metadata": {},
   "source": [
    "We have succesfully imputed the missing values from the columns Health_Indicator,Holding_Policy_Duration,Holding_Policy_Type"
   ]
  },
  {
   "cell_type": "markdown",
   "metadata": {},
   "source": [
    "### Step 4: Exploratory Data Analysis"
   ]
  },
  {
   "cell_type": "markdown",
   "metadata": {},
   "source": [
    "__Lets Plot Upper_Age and Lower_Age Box Plot__"
   ]
  },
  {
   "cell_type": "code",
   "execution_count": 23,
   "metadata": {},
   "outputs": [
    {
     "data": {
      "text/plain": [
       "<matplotlib.axes._subplots.AxesSubplot at 0x1dd4e4bb588>"
      ]
     },
     "execution_count": 23,
     "metadata": {},
     "output_type": "execute_result"
    },
    {
     "data": {
      "text/plain": [
       "<Figure size 576x360 with 0 Axes>"
      ]
     },
     "metadata": {},
     "output_type": "display_data"
    },
    {
     "data": {
      "image/png": "[encoded data removed]",
      "text/plain": [
       "<Figure size 432x288 with 1 Axes>"
      ]
     },
     "metadata": {
      "needs_background": "light"
     },
     "output_type": "display_data"
    }
   ],
   "source": [
    "plt.figure(figsize=(8,5))\n",
    "\n",
    "train[['Upper_Age','Lower_Age']].plot(kind='box') "
   ]
  },
  {
   "cell_type": "markdown",
   "metadata": {},
   "source": [
    "__The Box Plots above clearly show no \"Outliers\" in Upper_Age and Lower_Age attributes__"
   ]
  },
  {
   "cell_type": "markdown",
   "metadata": {},
   "source": [
    "__Lets Plot Reco_Policy_Premium Box Plot to check if there are any Outliers__"
   ]
  },
  {
   "cell_type": "code",
   "execution_count": 24,
   "metadata": {},
   "outputs": [
    {
     "data": {
      "text/plain": [
       "<matplotlib.axes._subplots.AxesSubplot at 0x1dd4d959b48>"
      ]
     },
     "execution_count": 24,
     "metadata": {},
     "output_type": "execute_result"
    },
    {
     "data": {
      "image/png": "[encoded data removed]",
      "text/plain": [
       "<Figure size 576x360 with 1 Axes>"
      ]
     },
     "metadata": {
      "needs_background": "light"
     },
     "output_type": "display_data"
    }
   ],
   "source": [
    "plt.figure(figsize=(8,5))\n",
    "sns.boxplot('Reco_Policy_Premium',data=train)"
   ]
  },
  {
   "cell_type": "markdown",
   "metadata": {},
   "source": [
    "__The Box Plots above clearly show there are \"Outliers\" in Reco_Policy_Premium__"
   ]
  },
  {
   "cell_type": "code",
   "execution_count": 25,
   "metadata": {},
   "outputs": [
    {
     "data": {
      "text/plain": [
       "1393     41850.0\n",
       "1905     42316.8\n",
       "5826     42240.0\n",
       "7080     43350.4\n",
       "7975     42256.0\n",
       "10015    41289.6\n",
       "11885    41932.8\n",
       "13107    41529.6\n",
       "14908    42066.0\n",
       "15038    40325.6\n",
       "16380    41040.0\n",
       "18281    41833.6\n",
       "29127    41496.0\n",
       "31280    41299.2\n",
       "33802    40983.0\n",
       "44606    42739.2\n",
       "46547    43046.4\n",
       "50470    40918.4\n",
       "Name: Reco_Policy_Premium, dtype: float64"
      ]
     },
     "execution_count": 25,
     "metadata": {},
     "output_type": "execute_result"
    }
   ],
   "source": [
    "train_ot=train['Reco_Policy_Premium']\n",
    "Q1 = train['Reco_Policy_Premium'].quantile(0.25)\n",
    "Q3 = train['Reco_Policy_Premium'].quantile(0.75)\n",
    "IQR = Q3 - Q1    #IQR is interquartile range. \n",
    "\n",
    "train_ot[(train['Reco_Policy_Premium'] <= Q1 - 2.5 * IQR) | (train['Reco_Policy_Premium'] >=Q3 + 2.5 *IQR)]  #for multiples of iqr"
   ]
  },
  {
   "cell_type": "markdown",
   "metadata": {},
   "source": [
    "* Since the Outliers in Reco_Policy_Premium attribute are just 18 we can leave them as such since these are not too many"
   ]
  },
  {
   "cell_type": "markdown",
   "metadata": {},
   "source": [
    "* ___Checking the Co-Relation Co-Efficients between the variables___"
   ]
  },
  {
   "cell_type": "code",
   "execution_count": 26,
   "metadata": {},
   "outputs": [
    {
     "name": "stdout",
     "output_type": "stream",
     "text": [
      "Reco_Policy_Cat      Region_Code           -0.065120\n",
      "Region_Code          Reco_Policy_Cat       -0.065120\n",
      "Reco_Policy_Premium  Region_Code           -0.010797\n",
      "Region_Code          Reco_Policy_Premium   -0.010797\n",
      "Lower_Age            Region_Code           -0.005928\n",
      "                                              ...   \n",
      "                     Lower_Age              1.000000\n",
      "Upper_Age            Upper_Age              1.000000\n",
      "Region_Code          Region_Code            1.000000\n",
      "Reco_Policy_Premium  Reco_Policy_Premium    1.000000\n",
      "Response             Response               1.000000\n",
      "Length: 64, dtype: float64\n",
      "===========================================================================\n",
      "===============Printing Positively Correlated Pairs========================\n",
      "===========================================================================\n",
      "Lower_Age            Reco_Policy_Premium    0.615739\n",
      "Reco_Policy_Premium  Lower_Age              0.615739\n",
      "Upper_Age            Reco_Policy_Premium    0.792689\n",
      "Reco_Policy_Premium  Upper_Age              0.792689\n",
      "Lower_Age            Upper_Age              0.921392\n",
      "Upper_Age            Lower_Age              0.921392\n",
      "dtype: float64\n"
     ]
    }
   ],
   "source": [
    "cor_data = train.corr()\n",
    "corr_pairs = cor_data.unstack()\n",
    "sorted_pairs = corr_pairs.sort_values(kind=\"quicksort\")\n",
    "print(sorted_pairs)\n",
    "print(\"===========================================================================\")\n",
    "print(\"===============Printing Positively Correlated Pairs========================\")\n",
    "print(\"===========================================================================\")\n",
    "pos_corr_pairs = sorted_pairs[(abs(sorted_pairs) >= 0.5) & (abs(sorted_pairs) < 1)]\n",
    "print(pos_corr_pairs)"
   ]
  },
  {
   "cell_type": "code",
   "execution_count": 27,
   "metadata": {},
   "outputs": [
    {
     "data": {
      "text/plain": [
       "<matplotlib.axes._subplots.AxesSubplot at 0x1dd4e60e788>"
      ]
     },
     "execution_count": 27,
     "metadata": {},
     "output_type": "execute_result"
    },
    {
     "data": {
      "image/png": "[encoded data removed]",
      "text/plain": [
       "<Figure size 792x648 with 2 Axes>"
      ]
     },
     "metadata": {
      "needs_background": "light"
     },
     "output_type": "display_data"
    }
   ],
   "source": [
    "f, ax = plt.subplots(figsize=(11, 9))\n",
    "sns.heatmap(train.corr(), annot = True,linewidths=.2)"
   ]
  },
  {
   "cell_type": "markdown",
   "metadata": {},
   "source": [
    "* __From the above HeatMap we can infer that Response is positively Co-Related with Reco_Policy_Cat and Reco_Policy_Premium__\n",
    "* __Upper_Age and Lower_Age are very hghly positively Co-Related Variables__\n",
    "* __Upper_Age and Lower_Age are very hghly positively Co-Related with Reco_Policy_Premium__"
   ]
  },
  {
   "cell_type": "code",
   "execution_count": 28,
   "metadata": {},
   "outputs": [],
   "source": [
    "train['age_diff'] = train['Upper_Age'] - train['Lower_Age']"
   ]
  },
  {
   "cell_type": "code",
   "execution_count": 29,
   "metadata": {},
   "outputs": [],
   "source": [
    "test['age_diff'] = test['Upper_Age'] - test['Lower_Age']"
   ]
  },
  {
   "cell_type": "code",
   "execution_count": 30,
   "metadata": {},
   "outputs": [
    {
     "data": {
      "text/plain": [
       "Index(['ID', 'City_Code', 'Region_Code', 'Accomodation_Type',\n",
       "       'Reco_Insurance_Type', 'Upper_Age', 'Lower_Age', 'Is_Spouse',\n",
       "       'Health_Indicator', 'Holding_Policy_Duration', 'Holding_Policy_Type',\n",
       "       'Reco_Policy_Cat', 'Reco_Policy_Premium', 'Response', 'age_diff'],\n",
       "      dtype='object')"
      ]
     },
     "execution_count": 30,
     "metadata": {},
     "output_type": "execute_result"
    }
   ],
   "source": [
    "train.columns"
   ]
  },
  {
   "cell_type": "code",
   "execution_count": 31,
   "metadata": {},
   "outputs": [
    {
     "data": {
      "text/html": [
       "<div>\n",
       "<style scoped>\n",
       "    .dataframe tbody tr th:only-of-type {\n",
       "        vertical-align: middle;\n",
       "    }\n",
       "\n",
       "    .dataframe tbody tr th {\n",
       "        vertical-align: top;\n",
       "    }\n",
       "\n",
       "    .dataframe thead th {\n",
       "        text-align: right;\n",
       "    }\n",
       "</style>\n",
       "<table border=\"1\" class=\"dataframe\">\n",
       "  <thead>\n",
       "    <tr style=\"text-align: right;\">\n",
       "      <th></th>\n",
       "      <th>ID</th>\n",
       "      <th>City_Code</th>\n",
       "      <th>Region_Code</th>\n",
       "      <th>Accomodation_Type</th>\n",
       "      <th>Reco_Insurance_Type</th>\n",
       "      <th>Upper_Age</th>\n",
       "      <th>Lower_Age</th>\n",
       "      <th>Is_Spouse</th>\n",
       "      <th>Health_Indicator</th>\n",
       "      <th>Holding_Policy_Duration</th>\n",
       "      <th>Holding_Policy_Type</th>\n",
       "      <th>Reco_Policy_Cat</th>\n",
       "      <th>Reco_Policy_Premium</th>\n",
       "      <th>Response</th>\n",
       "      <th>age_diff</th>\n",
       "    </tr>\n",
       "  </thead>\n",
       "  <tbody>\n",
       "    <tr>\n",
       "      <th>0</th>\n",
       "      <td>1</td>\n",
       "      <td>C3</td>\n",
       "      <td>3213</td>\n",
       "      <td>Rented</td>\n",
       "      <td>Individual</td>\n",
       "      <td>36</td>\n",
       "      <td>36</td>\n",
       "      <td>No</td>\n",
       "      <td>X1</td>\n",
       "      <td>14+</td>\n",
       "      <td>3.0</td>\n",
       "      <td>22</td>\n",
       "      <td>11628.0</td>\n",
       "      <td>0</td>\n",
       "      <td>0</td>\n",
       "    </tr>\n",
       "    <tr>\n",
       "      <th>1</th>\n",
       "      <td>2</td>\n",
       "      <td>C5</td>\n",
       "      <td>1117</td>\n",
       "      <td>Owned</td>\n",
       "      <td>Joint</td>\n",
       "      <td>75</td>\n",
       "      <td>22</td>\n",
       "      <td>No</td>\n",
       "      <td>X2</td>\n",
       "      <td>0</td>\n",
       "      <td>0.0</td>\n",
       "      <td>22</td>\n",
       "      <td>30510.0</td>\n",
       "      <td>0</td>\n",
       "      <td>53</td>\n",
       "    </tr>\n",
       "    <tr>\n",
       "      <th>2</th>\n",
       "      <td>3</td>\n",
       "      <td>C5</td>\n",
       "      <td>3732</td>\n",
       "      <td>Owned</td>\n",
       "      <td>Individual</td>\n",
       "      <td>32</td>\n",
       "      <td>32</td>\n",
       "      <td>No</td>\n",
       "      <td>X1</td>\n",
       "      <td>1.0</td>\n",
       "      <td>1.0</td>\n",
       "      <td>19</td>\n",
       "      <td>7450.0</td>\n",
       "      <td>1</td>\n",
       "      <td>0</td>\n",
       "    </tr>\n",
       "    <tr>\n",
       "      <th>3</th>\n",
       "      <td>4</td>\n",
       "      <td>C24</td>\n",
       "      <td>4378</td>\n",
       "      <td>Owned</td>\n",
       "      <td>Joint</td>\n",
       "      <td>52</td>\n",
       "      <td>48</td>\n",
       "      <td>No</td>\n",
       "      <td>X1</td>\n",
       "      <td>14+</td>\n",
       "      <td>3.0</td>\n",
       "      <td>19</td>\n",
       "      <td>17780.0</td>\n",
       "      <td>0</td>\n",
       "      <td>4</td>\n",
       "    </tr>\n",
       "    <tr>\n",
       "      <th>4</th>\n",
       "      <td>5</td>\n",
       "      <td>C8</td>\n",
       "      <td>2190</td>\n",
       "      <td>Rented</td>\n",
       "      <td>Individual</td>\n",
       "      <td>44</td>\n",
       "      <td>44</td>\n",
       "      <td>No</td>\n",
       "      <td>X2</td>\n",
       "      <td>3.0</td>\n",
       "      <td>1.0</td>\n",
       "      <td>16</td>\n",
       "      <td>10404.0</td>\n",
       "      <td>0</td>\n",
       "      <td>0</td>\n",
       "    </tr>\n",
       "  </tbody>\n",
       "</table>\n",
       "</div>"
      ],
      "text/plain": [
       "   ID City_Code  Region_Code Accomodation_Type Reco_Insurance_Type  Upper_Age  \\\n",
       "0   1        C3         3213            Rented          Individual         36   \n",
       "1   2        C5         1117             Owned               Joint         75   \n",
       "2   3        C5         3732             Owned          Individual         32   \n",
       "3   4       C24         4378             Owned               Joint         52   \n",
       "4   5        C8         2190            Rented          Individual         44   \n",
       "\n",
       "   Lower_Age Is_Spouse Health_Indicator Holding_Policy_Duration  \\\n",
       "0         36        No               X1                     14+   \n",
       "1         22        No               X2                       0   \n",
       "2         32        No               X1                     1.0   \n",
       "3         48        No               X1                     14+   \n",
       "4         44        No               X2                     3.0   \n",
       "\n",
       "   Holding_Policy_Type  Reco_Policy_Cat  Reco_Policy_Premium  Response  \\\n",
       "0                  3.0               22              11628.0         0   \n",
       "1                  0.0               22              30510.0         0   \n",
       "2                  1.0               19               7450.0         1   \n",
       "3                  3.0               19              17780.0         0   \n",
       "4                  1.0               16              10404.0         0   \n",
       "\n",
       "   age_diff  \n",
       "0         0  \n",
       "1        53  \n",
       "2         0  \n",
       "3         4  \n",
       "4         0  "
      ]
     },
     "execution_count": 31,
     "metadata": {},
     "output_type": "execute_result"
    }
   ],
   "source": [
    "train.head()"
   ]
  },
  {
   "cell_type": "code",
   "execution_count": 32,
   "metadata": {},
   "outputs": [
    {
     "name": "stdout",
     "output_type": "stream",
     "text": [
      "Lower_Age            Reco_Policy_Premium    0.615739\n",
      "Reco_Policy_Premium  Lower_Age              0.615739\n",
      "                     Upper_Age              0.792689\n",
      "Upper_Age            Reco_Policy_Premium    0.792689\n",
      "                     Lower_Age              0.921392\n",
      "Lower_Age            Upper_Age              0.921392\n",
      "dtype: float64\n"
     ]
    }
   ],
   "source": [
    "cor_data = train.corr()\n",
    "corr_pairs = cor_data.unstack()\n",
    "sorted_pairs = corr_pairs.sort_values(kind=\"quicksort\")\n",
    "pos_corr_pairs = sorted_pairs[(abs(sorted_pairs) >= 0.5) & (abs(sorted_pairs) < 1)]\n",
    "print(pos_corr_pairs)"
   ]
  },
  {
   "cell_type": "markdown",
   "metadata": {},
   "source": [
    "* ____As IS-Spouse is not at all Co-Related with Response we will be dropping it____"
   ]
  },
  {
   "cell_type": "code",
   "execution_count": 33,
   "metadata": {},
   "outputs": [],
   "source": [
    "train = train.drop(['Is_Spouse'],axis=1)"
   ]
  },
  {
   "cell_type": "code",
   "execution_count": 34,
   "metadata": {},
   "outputs": [
    {
     "data": {
      "text/html": [
       "<div>\n",
       "<style scoped>\n",
       "    .dataframe tbody tr th:only-of-type {\n",
       "        vertical-align: middle;\n",
       "    }\n",
       "\n",
       "    .dataframe tbody tr th {\n",
       "        vertical-align: top;\n",
       "    }\n",
       "\n",
       "    .dataframe thead th {\n",
       "        text-align: right;\n",
       "    }\n",
       "</style>\n",
       "<table border=\"1\" class=\"dataframe\">\n",
       "  <thead>\n",
       "    <tr style=\"text-align: right;\">\n",
       "      <th></th>\n",
       "      <th>ID</th>\n",
       "      <th>City_Code</th>\n",
       "      <th>Region_Code</th>\n",
       "      <th>Accomodation_Type</th>\n",
       "      <th>Reco_Insurance_Type</th>\n",
       "      <th>Upper_Age</th>\n",
       "      <th>Lower_Age</th>\n",
       "      <th>Health_Indicator</th>\n",
       "      <th>Holding_Policy_Duration</th>\n",
       "      <th>Holding_Policy_Type</th>\n",
       "      <th>Reco_Policy_Cat</th>\n",
       "      <th>Reco_Policy_Premium</th>\n",
       "      <th>Response</th>\n",
       "      <th>age_diff</th>\n",
       "    </tr>\n",
       "  </thead>\n",
       "  <tbody>\n",
       "    <tr>\n",
       "      <th>0</th>\n",
       "      <td>1</td>\n",
       "      <td>C3</td>\n",
       "      <td>3213</td>\n",
       "      <td>Rented</td>\n",
       "      <td>Individual</td>\n",
       "      <td>36</td>\n",
       "      <td>36</td>\n",
       "      <td>X1</td>\n",
       "      <td>14+</td>\n",
       "      <td>3.0</td>\n",
       "      <td>22</td>\n",
       "      <td>11628.0</td>\n",
       "      <td>0</td>\n",
       "      <td>0</td>\n",
       "    </tr>\n",
       "    <tr>\n",
       "      <th>1</th>\n",
       "      <td>2</td>\n",
       "      <td>C5</td>\n",
       "      <td>1117</td>\n",
       "      <td>Owned</td>\n",
       "      <td>Joint</td>\n",
       "      <td>75</td>\n",
       "      <td>22</td>\n",
       "      <td>X2</td>\n",
       "      <td>0</td>\n",
       "      <td>0.0</td>\n",
       "      <td>22</td>\n",
       "      <td>30510.0</td>\n",
       "      <td>0</td>\n",
       "      <td>53</td>\n",
       "    </tr>\n",
       "    <tr>\n",
       "      <th>2</th>\n",
       "      <td>3</td>\n",
       "      <td>C5</td>\n",
       "      <td>3732</td>\n",
       "      <td>Owned</td>\n",
       "      <td>Individual</td>\n",
       "      <td>32</td>\n",
       "      <td>32</td>\n",
       "      <td>X1</td>\n",
       "      <td>1.0</td>\n",
       "      <td>1.0</td>\n",
       "      <td>19</td>\n",
       "      <td>7450.0</td>\n",
       "      <td>1</td>\n",
       "      <td>0</td>\n",
       "    </tr>\n",
       "    <tr>\n",
       "      <th>3</th>\n",
       "      <td>4</td>\n",
       "      <td>C24</td>\n",
       "      <td>4378</td>\n",
       "      <td>Owned</td>\n",
       "      <td>Joint</td>\n",
       "      <td>52</td>\n",
       "      <td>48</td>\n",
       "      <td>X1</td>\n",
       "      <td>14+</td>\n",
       "      <td>3.0</td>\n",
       "      <td>19</td>\n",
       "      <td>17780.0</td>\n",
       "      <td>0</td>\n",
       "      <td>4</td>\n",
       "    </tr>\n",
       "    <tr>\n",
       "      <th>4</th>\n",
       "      <td>5</td>\n",
       "      <td>C8</td>\n",
       "      <td>2190</td>\n",
       "      <td>Rented</td>\n",
       "      <td>Individual</td>\n",
       "      <td>44</td>\n",
       "      <td>44</td>\n",
       "      <td>X2</td>\n",
       "      <td>3.0</td>\n",
       "      <td>1.0</td>\n",
       "      <td>16</td>\n",
       "      <td>10404.0</td>\n",
       "      <td>0</td>\n",
       "      <td>0</td>\n",
       "    </tr>\n",
       "  </tbody>\n",
       "</table>\n",
       "</div>"
      ],
      "text/plain": [
       "   ID City_Code  Region_Code Accomodation_Type Reco_Insurance_Type  Upper_Age  \\\n",
       "0   1        C3         3213            Rented          Individual         36   \n",
       "1   2        C5         1117             Owned               Joint         75   \n",
       "2   3        C5         3732             Owned          Individual         32   \n",
       "3   4       C24         4378             Owned               Joint         52   \n",
       "4   5        C8         2190            Rented          Individual         44   \n",
       "\n",
       "   Lower_Age Health_Indicator Holding_Policy_Duration  Holding_Policy_Type  \\\n",
       "0         36               X1                     14+                  3.0   \n",
       "1         22               X2                       0                  0.0   \n",
       "2         32               X1                     1.0                  1.0   \n",
       "3         48               X1                     14+                  3.0   \n",
       "4         44               X2                     3.0                  1.0   \n",
       "\n",
       "   Reco_Policy_Cat  Reco_Policy_Premium  Response  age_diff  \n",
       "0               22              11628.0         0         0  \n",
       "1               22              30510.0         0        53  \n",
       "2               19               7450.0         1         0  \n",
       "3               19              17780.0         0         4  \n",
       "4               16              10404.0         0         0  "
      ]
     },
     "execution_count": 34,
     "metadata": {},
     "output_type": "execute_result"
    }
   ],
   "source": [
    "train.head(5)"
   ]
  },
  {
   "cell_type": "code",
   "execution_count": 35,
   "metadata": {},
   "outputs": [],
   "source": [
    "test = test.drop(['Is_Spouse'],axis=1)"
   ]
  },
  {
   "cell_type": "code",
   "execution_count": 36,
   "metadata": {},
   "outputs": [
    {
     "data": {
      "text/html": [
       "<div>\n",
       "<style scoped>\n",
       "    .dataframe tbody tr th:only-of-type {\n",
       "        vertical-align: middle;\n",
       "    }\n",
       "\n",
       "    .dataframe tbody tr th {\n",
       "        vertical-align: top;\n",
       "    }\n",
       "\n",
       "    .dataframe thead th {\n",
       "        text-align: right;\n",
       "    }\n",
       "</style>\n",
       "<table border=\"1\" class=\"dataframe\">\n",
       "  <thead>\n",
       "    <tr style=\"text-align: right;\">\n",
       "      <th></th>\n",
       "      <th>ID</th>\n",
       "      <th>City_Code</th>\n",
       "      <th>Region_Code</th>\n",
       "      <th>Accomodation_Type</th>\n",
       "      <th>Reco_Insurance_Type</th>\n",
       "      <th>Upper_Age</th>\n",
       "      <th>Lower_Age</th>\n",
       "      <th>Health_Indicator</th>\n",
       "      <th>Holding_Policy_Duration</th>\n",
       "      <th>Holding_Policy_Type</th>\n",
       "      <th>Reco_Policy_Cat</th>\n",
       "      <th>Reco_Policy_Premium</th>\n",
       "      <th>age_diff</th>\n",
       "    </tr>\n",
       "  </thead>\n",
       "  <tbody>\n",
       "    <tr>\n",
       "      <th>0</th>\n",
       "      <td>50883</td>\n",
       "      <td>C1</td>\n",
       "      <td>156</td>\n",
       "      <td>Owned</td>\n",
       "      <td>Individual</td>\n",
       "      <td>30</td>\n",
       "      <td>30</td>\n",
       "      <td>X1</td>\n",
       "      <td>6.0</td>\n",
       "      <td>3.0</td>\n",
       "      <td>5</td>\n",
       "      <td>11934.0</td>\n",
       "      <td>0</td>\n",
       "    </tr>\n",
       "  </tbody>\n",
       "</table>\n",
       "</div>"
      ],
      "text/plain": [
       "      ID City_Code  Region_Code Accomodation_Type Reco_Insurance_Type  \\\n",
       "0  50883        C1          156             Owned          Individual   \n",
       "\n",
       "   Upper_Age  Lower_Age Health_Indicator Holding_Policy_Duration  \\\n",
       "0         30         30               X1                     6.0   \n",
       "\n",
       "   Holding_Policy_Type  Reco_Policy_Cat  Reco_Policy_Premium  age_diff  \n",
       "0                  3.0                5              11934.0         0  "
      ]
     },
     "execution_count": 36,
     "metadata": {},
     "output_type": "execute_result"
    }
   ],
   "source": [
    "test.head(1)"
   ]
  },
  {
   "cell_type": "markdown",
   "metadata": {},
   "source": [
    "* Checking for Unique Values in attributes"
   ]
  },
  {
   "cell_type": "code",
   "execution_count": 37,
   "metadata": {},
   "outputs": [
    {
     "data": {
      "text/plain": [
       "Owned     27951\n",
       "Rented    22931\n",
       "Name: Accomodation_Type, dtype: int64"
      ]
     },
     "execution_count": 37,
     "metadata": {},
     "output_type": "execute_result"
    }
   ],
   "source": [
    "train['Accomodation_Type'].value_counts()"
   ]
  },
  {
   "cell_type": "code",
   "execution_count": 38,
   "metadata": {},
   "outputs": [
    {
     "data": {
      "text/plain": [
       "Individual    40536\n",
       "Joint         10346\n",
       "Name: Reco_Insurance_Type, dtype: int64"
      ]
     },
     "execution_count": 38,
     "metadata": {},
     "output_type": "execute_result"
    }
   ],
   "source": [
    "train['Reco_Insurance_Type'].value_counts()"
   ]
  },
  {
   "cell_type": "code",
   "execution_count": 39,
   "metadata": {},
   "outputs": [
    {
     "data": {
      "text/plain": [
       "<matplotlib.axes._subplots.AxesSubplot at 0x1dd4fb2aec8>"
      ]
     },
     "execution_count": 39,
     "metadata": {},
     "output_type": "execute_result"
    },
    {
     "data": {
      "image/png": "[encoded data removed]",
      "text/plain": [
       "<Figure size 1152x1440 with 4 Axes>"
      ]
     },
     "metadata": {},
     "output_type": "display_data"
    }
   ],
   "source": [
    "sns.set_style('dark') \n",
    "fig, ax = plt.subplots(2,2,figsize=(16,20)) \n",
    "sns.countplot('Accomodation_Type',data=train,ax=ax[0][0], palette=sns.cubehelix_palette())\n",
    "sns.countplot('Reco_Insurance_Type',data=train,ax=ax[0][1], palette=sns.color_palette('Paired'))"
   ]
  },
  {
   "cell_type": "code",
   "execution_count": 40,
   "metadata": {},
   "outputs": [
    {
     "data": {
      "text/plain": [
       "<matplotlib.axes._subplots.AxesSubplot at 0x1dd4e3e13c8>"
      ]
     },
     "execution_count": 40,
     "metadata": {},
     "output_type": "execute_result"
    },
    {
     "data": {
      "image/png": "[encoded data removed]",
      "text/plain": [
       "<Figure size 432x288 with 1 Axes>"
      ]
     },
     "metadata": {},
     "output_type": "display_data"
    }
   ],
   "source": [
    "sns.countplot('Health_Indicator',data=train, palette=sns.color_palette('RdBu_r'))"
   ]
  },
  {
   "cell_type": "markdown",
   "metadata": {},
   "source": [
    "__We can Infer the below from the above graphs__\n",
    "* Accomodation_Type has customers equally distributed between Onwed and Rented categories\n",
    "* Majority of the customers Recommended Insurance type is Individual and there are less number of customers with Joint Insurance Type\n",
    "* Almost 90% of the customers are single\n",
    "* Health Indicator wise majority of the customers fall under the categories X1,X2"
   ]
  },
  {
   "cell_type": "code",
   "execution_count": 41,
   "metadata": {},
   "outputs": [
    {
     "data": {
      "text/plain": [
       "<matplotlib.axes._subplots.AxesSubplot at 0x1dd4e7ef4c8>"
      ]
     },
     "execution_count": 41,
     "metadata": {},
     "output_type": "execute_result"
    },
    {
     "data": {
      "image/png": "[encoded data removed]",
      "text/plain": [
       "<Figure size 432x288 with 1 Axes>"
      ]
     },
     "metadata": {},
     "output_type": "display_data"
    }
   ],
   "source": [
    "sns.set_style('dark') \n",
    "#fig, ax = plt.subplots(figsize=(16,20)) \n",
    "sns.countplot('Holding_Policy_Duration',data=train, palette=sns.color_palette('RdBu_r'))"
   ]
  },
  {
   "cell_type": "markdown",
   "metadata": {},
   "source": [
    "__As per the above graph__\n",
    "* We can conclude that 50% of the customers have subscirbed with Policy Duration as 1 followed by customers who have subscribed with policy duration of 2/4/14+."
   ]
  },
  {
   "cell_type": "code",
   "execution_count": 42,
   "metadata": {},
   "outputs": [
    {
     "data": {
      "text/plain": [
       "<matplotlib.axes._subplots.AxesSubplot at 0x1dd4e895348>"
      ]
     },
     "execution_count": 42,
     "metadata": {},
     "output_type": "execute_result"
    },
    {
     "data": {
      "image/png": "[encoded data removed]",
      "text/plain": [
       "<Figure size 432x288 with 1 Axes>"
      ]
     },
     "metadata": {},
     "output_type": "display_data"
    }
   ],
   "source": [
    "sns.set_style('dark') \n",
    "#fig, ax = plt.subplots(figsize=(16,20)) \n",
    "sns.countplot('Holding_Policy_Duration',data=train, palette=sns.color_palette('RdBu_r'))\n",
    "sns.countplot('Holding_Policy_Type',data=train, palette=sns.color_palette('RdBu_r'))\n",
    "#sns.countplot('Reco_Policy_Cat',data=train,ax=ax[1][0], palette=sns.color_palette('RdBu_r'))\n",
    "#sns.countplot('City_Code',data=train,ax=ax[1][1], palette=sns.color_palette('RdBu_r'))"
   ]
  },
  {
   "cell_type": "markdown",
   "metadata": {},
   "source": [
    "__As per the above graph__\n",
    "* We can conclude that Policy Type 3 and Policy Type 2 have majority of the customers."
   ]
  },
  {
   "cell_type": "code",
   "execution_count": 43,
   "metadata": {},
   "outputs": [
    {
     "data": {
      "text/plain": [
       "<matplotlib.axes._subplots.AxesSubplot at 0x1dd4d42e488>"
      ]
     },
     "execution_count": 43,
     "metadata": {},
     "output_type": "execute_result"
    },
    {
     "data": {
      "image/png": "[encoded data removed]",
      "text/plain": [
       "<Figure size 432x288 with 1 Axes>"
      ]
     },
     "metadata": {},
     "output_type": "display_data"
    }
   ],
   "source": [
    "sns.set_style('dark') \n",
    "sns.countplot('Reco_Policy_Cat',data=train, palette=sns.color_palette('RdBu_r'))"
   ]
  },
  {
   "cell_type": "markdown",
   "metadata": {},
   "source": [
    "__As per the above graph__\n",
    "* We can conclude that Recommended Policy Category of 22/18/21 has majority of the customers"
   ]
  },
  {
   "cell_type": "code",
   "execution_count": 44,
   "metadata": {},
   "outputs": [
    {
     "data": {
      "text/plain": [
       "<matplotlib.axes._subplots.AxesSubplot at 0x1dd50016288>"
      ]
     },
     "execution_count": 44,
     "metadata": {},
     "output_type": "execute_result"
    },
    {
     "data": {
      "image/png": "[encoded data removed]",
      "text/plain": [
       "<Figure size 432x288 with 1 Axes>"
      ]
     },
     "metadata": {},
     "output_type": "display_data"
    }
   ],
   "source": [
    "sns.set_style('dark') \n",
    "figsize=(20,20)\n",
    "#sns.countplot('City_Code',data=train, palette=sns.color_palette('RdBu_r'))\n",
    "train.groupby('City_Code').size().plot(kind='bar')"
   ]
  },
  {
   "cell_type": "markdown",
   "metadata": {},
   "source": [
    "__As per the above graph we can infer that__\n",
    "* Majoirty of the Customers are from City Code C1,C2,C3,C4"
   ]
  },
  {
   "cell_type": "markdown",
   "metadata": {},
   "source": [
    "### Step 5 : Feature Engineering"
   ]
  },
  {
   "cell_type": "markdown",
   "metadata": {},
   "source": [
    "### Lets first select the required attributes for the Model "
   ]
  },
  {
   "cell_type": "code",
   "execution_count": 45,
   "metadata": {},
   "outputs": [],
   "source": [
    "train['Reco_Insurance_Type']=train['Reco_Insurance_Type'].replace({'Joint':0,'Individual':1})"
   ]
  },
  {
   "cell_type": "code",
   "execution_count": 46,
   "metadata": {},
   "outputs": [],
   "source": [
    "test['Reco_Insurance_Type']=test['Reco_Insurance_Type'].replace({'Joint':0,'Individual':1})"
   ]
  },
  {
   "cell_type": "code",
   "execution_count": 47,
   "metadata": {},
   "outputs": [],
   "source": [
    "train['Accomodation_Type']=train['Accomodation_Type'].replace({'Owned':0,'Rented':1})"
   ]
  },
  {
   "cell_type": "code",
   "execution_count": 48,
   "metadata": {},
   "outputs": [],
   "source": [
    "test['Accomodation_Type']=test['Accomodation_Type'].replace({'Owned':0,'Rented':1})"
   ]
  },
  {
   "cell_type": "code",
   "execution_count": 49,
   "metadata": {},
   "outputs": [],
   "source": [
    "train['Health_Indicator']=train['Health_Indicator'].replace({'X1':1,'X2':2,'X3':3,'X4':4,'X5':5,'X6':6,\n",
    "                                                            'X7':7,'X8':8,'X9':9})"
   ]
  },
  {
   "cell_type": "code",
   "execution_count": 50,
   "metadata": {},
   "outputs": [],
   "source": [
    "test['Health_Indicator']=test['Health_Indicator'].replace({'X1':1,'X2':2,'X3':3,'X4':4,'X5':5,'X6':6,\n",
    "                                                            'X7':7,'X8':8,'X9':9})"
   ]
  },
  {
   "cell_type": "code",
   "execution_count": 51,
   "metadata": {},
   "outputs": [],
   "source": [
    "# Combine train and test data into single DataFrame - complete_data\n",
    "complete_data = pd.concat([train,test],axis=0)"
   ]
  },
  {
   "cell_type": "code",
   "execution_count": 52,
   "metadata": {},
   "outputs": [],
   "source": [
    "complete_data['Holding_Policy_Duration']=complete_data['Holding_Policy_Duration'].replace({'14+':'15'})"
   ]
  },
  {
   "cell_type": "code",
   "execution_count": 53,
   "metadata": {},
   "outputs": [],
   "source": [
    "##complete_data['Is_Spouse']=complete_data['Is_Spouse'].replace({'No':1,'Yes':0})"
   ]
  },
  {
   "cell_type": "code",
   "execution_count": 54,
   "metadata": {},
   "outputs": [],
   "source": [
    "complete_data['City_Code']=complete_data['City_Code'].replace({'C1':1,'C10':10,'C11':11,'C12':12,'C13':13,'C14':14,\n",
    "                                                               'C15':15,'C16':16,'C17':17,'C18':18,'C19':19,\n",
    "                                                               'C2':2,'C20':20,'C21':21,'C22':22,'C23':23,'C24':24,\n",
    "                                                               'C25':25,'C26':26,'C27':27,'C28':28,'C29':29,\n",
    "                                                               'C3':3,'C30':30,'C31':31,'C32':32,'C33':33,'C34':34,\n",
    "                                                               'C35':35,'C36':36,'C4':4,'C5':5,'C6':6,'C7':7,'C8':8,'C9':9})"
   ]
  },
  {
   "cell_type": "code",
   "execution_count": 55,
   "metadata": {},
   "outputs": [
    {
     "name": "stdout",
     "output_type": "stream",
     "text": [
      "<class 'pandas.core.frame.DataFrame'>\n",
      "Int64Index: 72687 entries, 0 to 21804\n",
      "Data columns (total 14 columns):\n",
      " #   Column                   Non-Null Count  Dtype  \n",
      "---  ------                   --------------  -----  \n",
      " 0   ID                       72687 non-null  int64  \n",
      " 1   City_Code                72687 non-null  int64  \n",
      " 2   Region_Code              72687 non-null  int64  \n",
      " 3   Accomodation_Type        72687 non-null  int64  \n",
      " 4   Reco_Insurance_Type      72687 non-null  int64  \n",
      " 5   Upper_Age                72687 non-null  int64  \n",
      " 6   Lower_Age                72687 non-null  int64  \n",
      " 7   Health_Indicator         72687 non-null  int64  \n",
      " 8   Holding_Policy_Duration  72687 non-null  object \n",
      " 9   Holding_Policy_Type      72687 non-null  float64\n",
      " 10  Reco_Policy_Cat          72687 non-null  int64  \n",
      " 11  Reco_Policy_Premium      72687 non-null  float64\n",
      " 12  Response                 50882 non-null  float64\n",
      " 13  age_diff                 72687 non-null  int64  \n",
      "dtypes: float64(3), int64(10), object(1)\n",
      "memory usage: 8.3+ MB\n"
     ]
    }
   ],
   "source": [
    "complete_data.info()"
   ]
  },
  {
   "cell_type": "markdown",
   "metadata": {},
   "source": [
    "* ___Grouping Variables and Summing them up to create new Attributes___"
   ]
  },
  {
   "cell_type": "code",
   "execution_count": 56,
   "metadata": {},
   "outputs": [],
   "source": [
    "#complete_data['healthInd_rCode_lAge'] = complete_data.groupby(['Region_Code','Lower_Age'],\n",
    "#                                                                     axis=0)['Health_Indicator'].transform('sum')"
   ]
  },
  {
   "cell_type": "code",
   "execution_count": 57,
   "metadata": {},
   "outputs": [],
   "source": [
    "#complete_data['healthInd_cityCode_uAge'] = complete_data.groupby(['City_Code','age_diff'],\n",
    "#                                                                     axis=0)['Health_Indicator'].transform('sum')"
   ]
  },
  {
   "cell_type": "code",
   "execution_count": 58,
   "metadata": {},
   "outputs": [],
   "source": [
    "#complete_data['healthInd_cityCode_lAge'] = complete_data.groupby(['City_Code','Lower_Age'],\n",
    "#                                                                     axis=0)['Health_Indicator'].transform('sum')"
   ]
  },
  {
   "cell_type": "code",
   "execution_count": 59,
   "metadata": {},
   "outputs": [],
   "source": [
    "complete_data['healthInd_rCode_polCat'] = complete_data.groupby(['Region_Code','Reco_Policy_Cat'],\n",
    "                                                               axis=0)['Health_Indicator'].transform('sum')"
   ]
  },
  {
   "cell_type": "code",
   "execution_count": 60,
   "metadata": {},
   "outputs": [],
   "source": [
    "complete_data['healthInd_cityCode_polCat'] = complete_data.groupby(['City_Code','Reco_Policy_Cat'],\n",
    "                                                               axis=0)['Health_Indicator'].transform('sum')"
   ]
  },
  {
   "cell_type": "code",
   "execution_count": 61,
   "metadata": {},
   "outputs": [],
   "source": [
    "complete_data['recPolCat_rCode_cCode_healthInd'] = complete_data.groupby(['Region_Code','City_Code','Health_Indicator'],\n",
    "                                                               axis=0)['Reco_Policy_Cat'].transform('sum')"
   ]
  },
  {
   "cell_type": "code",
   "execution_count": 62,
   "metadata": {},
   "outputs": [],
   "source": [
    "#complete_data['healthInd_rCode_cCode__recPolCat'] = complete_data.groupby(['Region_Code','City_Code','Reco_Policy_Cat'],\n",
    "#                                                               axis=0)['Health_Indicator'].transform('sum')"
   ]
  },
  {
   "cell_type": "code",
   "execution_count": 63,
   "metadata": {},
   "outputs": [],
   "source": [
    "complete_data['healthInd_rCode_polDuration'] = complete_data.groupby(['Region_Code','Holding_Policy_Duration'],\n",
    "                                                               axis=0)['Health_Indicator'].transform('sum')"
   ]
  },
  {
   "cell_type": "code",
   "execution_count": 64,
   "metadata": {},
   "outputs": [],
   "source": [
    "complete_data['healthInd_cityCode_polDuration'] = complete_data.groupby(['City_Code','Holding_Policy_Duration'],\n",
    "                                                               axis=0)['Health_Indicator'].transform('sum')"
   ]
  },
  {
   "cell_type": "code",
   "execution_count": 65,
   "metadata": {},
   "outputs": [],
   "source": [
    "complete_data['healthInd_rCode_holdingpolType'] = complete_data.groupby(['Region_Code','Holding_Policy_Type'],\n",
    "                                                               axis=0)['Health_Indicator'].transform('sum')"
   ]
  },
  {
   "cell_type": "code",
   "execution_count": 66,
   "metadata": {},
   "outputs": [],
   "source": [
    "complete_data['healthInd_cityCode_holdingpolType'] = complete_data.groupby(['City_Code','Holding_Policy_Type'],\n",
    "                                                               axis=0)['Health_Indicator'].transform('sum')"
   ]
  },
  {
   "cell_type": "code",
   "execution_count": 67,
   "metadata": {},
   "outputs": [],
   "source": [
    "complete_data['healthInd_rCode'] = complete_data.groupby(['Region_Code'],\n",
    "                                                               axis=0)['Health_Indicator'].transform('sum')"
   ]
  },
  {
   "cell_type": "code",
   "execution_count": 68,
   "metadata": {},
   "outputs": [],
   "source": [
    "complete_data['healthInd_cityCode'] = complete_data.groupby(['City_Code'],\n",
    "                                                               axis=0)['Health_Indicator'].transform('sum')"
   ]
  },
  {
   "cell_type": "code",
   "execution_count": 69,
   "metadata": {},
   "outputs": [],
   "source": [
    "complete_data['diffAge_recoInsType_recoPolicyCat'] = complete_data.groupby(['Reco_Insurance_Type','Reco_Policy_Cat',\n",
    "                                                                            'age_diff'],\n",
    "                                                                           axis=0)['Health_Indicator'].transform('sum')"
   ]
  },
  {
   "cell_type": "code",
   "execution_count": 70,
   "metadata": {},
   "outputs": [],
   "source": [
    "complete_data['healthInd_holdPolDur_holdingpolType'] = complete_data.groupby(['Holding_Policy_Duration','Holding_Policy_Type'],\n",
    "                                                               axis=0)['Health_Indicator'].transform('sum')"
   ]
  },
  {
   "cell_type": "code",
   "execution_count": 71,
   "metadata": {},
   "outputs": [
    {
     "name": "stdout",
     "output_type": "stream",
     "text": [
      "<class 'pandas.core.frame.DataFrame'>\n",
      "Int64Index: 72687 entries, 0 to 21804\n",
      "Data columns (total 25 columns):\n",
      " #   Column                               Non-Null Count  Dtype  \n",
      "---  ------                               --------------  -----  \n",
      " 0   ID                                   72687 non-null  int64  \n",
      " 1   City_Code                            72687 non-null  int64  \n",
      " 2   Region_Code                          72687 non-null  int64  \n",
      " 3   Accomodation_Type                    72687 non-null  int64  \n",
      " 4   Reco_Insurance_Type                  72687 non-null  int64  \n",
      " 5   Upper_Age                            72687 non-null  int64  \n",
      " 6   Lower_Age                            72687 non-null  int64  \n",
      " 7   Health_Indicator                     72687 non-null  int64  \n",
      " 8   Holding_Policy_Duration              72687 non-null  object \n",
      " 9   Holding_Policy_Type                  72687 non-null  float64\n",
      " 10  Reco_Policy_Cat                      72687 non-null  int64  \n",
      " 11  Reco_Policy_Premium                  72687 non-null  float64\n",
      " 12  Response                             50882 non-null  float64\n",
      " 13  age_diff                             72687 non-null  int64  \n",
      " 14  healthInd_rCode_polCat               72687 non-null  int64  \n",
      " 15  healthInd_cityCode_polCat            72687 non-null  int64  \n",
      " 16  recPolCat_rCode_cCode_healthInd      72687 non-null  int64  \n",
      " 17  healthInd_rCode_polDuration          72687 non-null  int64  \n",
      " 18  healthInd_cityCode_polDuration       72687 non-null  int64  \n",
      " 19  healthInd_rCode_holdingpolType       72687 non-null  int64  \n",
      " 20  healthInd_cityCode_holdingpolType    72687 non-null  int64  \n",
      " 21  healthInd_rCode                      72687 non-null  int64  \n",
      " 22  healthInd_cityCode                   72687 non-null  int64  \n",
      " 23  diffAge_recoInsType_recoPolicyCat    72687 non-null  int64  \n",
      " 24  healthInd_holdPolDur_holdingpolType  72687 non-null  int64  \n",
      "dtypes: float64(3), int64(21), object(1)\n",
      "memory usage: 14.4+ MB\n"
     ]
    }
   ],
   "source": [
    "complete_data.info()"
   ]
  },
  {
   "cell_type": "code",
   "execution_count": 72,
   "metadata": {},
   "outputs": [
    {
     "data": {
      "text/html": [
       "<div>\n",
       "<style scoped>\n",
       "    .dataframe tbody tr th:only-of-type {\n",
       "        vertical-align: middle;\n",
       "    }\n",
       "\n",
       "    .dataframe tbody tr th {\n",
       "        vertical-align: top;\n",
       "    }\n",
       "\n",
       "    .dataframe thead th {\n",
       "        text-align: right;\n",
       "    }\n",
       "</style>\n",
       "<table border=\"1\" class=\"dataframe\">\n",
       "  <thead>\n",
       "    <tr style=\"text-align: right;\">\n",
       "      <th></th>\n",
       "      <th>ID</th>\n",
       "      <th>City_Code</th>\n",
       "      <th>Region_Code</th>\n",
       "      <th>Accomodation_Type</th>\n",
       "      <th>Reco_Insurance_Type</th>\n",
       "      <th>Upper_Age</th>\n",
       "      <th>Lower_Age</th>\n",
       "      <th>Health_Indicator</th>\n",
       "      <th>Holding_Policy_Duration</th>\n",
       "      <th>Holding_Policy_Type</th>\n",
       "      <th>...</th>\n",
       "      <th>healthInd_cityCode_polCat</th>\n",
       "      <th>recPolCat_rCode_cCode_healthInd</th>\n",
       "      <th>healthInd_rCode_polDuration</th>\n",
       "      <th>healthInd_cityCode_polDuration</th>\n",
       "      <th>healthInd_rCode_holdingpolType</th>\n",
       "      <th>healthInd_cityCode_holdingpolType</th>\n",
       "      <th>healthInd_rCode</th>\n",
       "      <th>healthInd_cityCode</th>\n",
       "      <th>diffAge_recoInsType_recoPolicyCat</th>\n",
       "      <th>healthInd_holdPolDur_holdingpolType</th>\n",
       "    </tr>\n",
       "  </thead>\n",
       "  <tbody>\n",
       "    <tr>\n",
       "      <th>0</th>\n",
       "      <td>1</td>\n",
       "      <td>3</td>\n",
       "      <td>3213</td>\n",
       "      <td>1</td>\n",
       "      <td>1</td>\n",
       "      <td>36</td>\n",
       "      <td>36</td>\n",
       "      <td>1</td>\n",
       "      <td>15</td>\n",
       "      <td>3.0</td>\n",
       "      <td>...</td>\n",
       "      <td>1131</td>\n",
       "      <td>117</td>\n",
       "      <td>3</td>\n",
       "      <td>1223</td>\n",
       "      <td>1</td>\n",
       "      <td>3854</td>\n",
       "      <td>15</td>\n",
       "      <td>14373</td>\n",
       "      <td>15593</td>\n",
       "      <td>6877</td>\n",
       "    </tr>\n",
       "    <tr>\n",
       "      <th>1</th>\n",
       "      <td>2</td>\n",
       "      <td>5</td>\n",
       "      <td>1117</td>\n",
       "      <td>0</td>\n",
       "      <td>0</td>\n",
       "      <td>75</td>\n",
       "      <td>22</td>\n",
       "      <td>2</td>\n",
       "      <td>0</td>\n",
       "      <td>0.0</td>\n",
       "      <td>...</td>\n",
       "      <td>214</td>\n",
       "      <td>66</td>\n",
       "      <td>18</td>\n",
       "      <td>1608</td>\n",
       "      <td>18</td>\n",
       "      <td>1608</td>\n",
       "      <td>45</td>\n",
       "      <td>4075</td>\n",
       "      <td>4</td>\n",
       "      <td>60121</td>\n",
       "    </tr>\n",
       "    <tr>\n",
       "      <th>2</th>\n",
       "      <td>3</td>\n",
       "      <td>5</td>\n",
       "      <td>3732</td>\n",
       "      <td>0</td>\n",
       "      <td>1</td>\n",
       "      <td>32</td>\n",
       "      <td>32</td>\n",
       "      <td>1</td>\n",
       "      <td>1.0</td>\n",
       "      <td>1.0</td>\n",
       "      <td>...</td>\n",
       "      <td>238</td>\n",
       "      <td>24</td>\n",
       "      <td>2</td>\n",
       "      <td>454</td>\n",
       "      <td>6</td>\n",
       "      <td>782</td>\n",
       "      <td>11</td>\n",
       "      <td>4075</td>\n",
       "      <td>8545</td>\n",
       "      <td>5081</td>\n",
       "    </tr>\n",
       "    <tr>\n",
       "      <th>3</th>\n",
       "      <td>4</td>\n",
       "      <td>24</td>\n",
       "      <td>4378</td>\n",
       "      <td>0</td>\n",
       "      <td>0</td>\n",
       "      <td>52</td>\n",
       "      <td>48</td>\n",
       "      <td>1</td>\n",
       "      <td>15</td>\n",
       "      <td>3.0</td>\n",
       "      <td>...</td>\n",
       "      <td>177</td>\n",
       "      <td>36</td>\n",
       "      <td>4</td>\n",
       "      <td>152</td>\n",
       "      <td>3</td>\n",
       "      <td>319</td>\n",
       "      <td>9</td>\n",
       "      <td>1864</td>\n",
       "      <td>217</td>\n",
       "      <td>6877</td>\n",
       "    </tr>\n",
       "    <tr>\n",
       "      <th>4</th>\n",
       "      <td>5</td>\n",
       "      <td>8</td>\n",
       "      <td>2190</td>\n",
       "      <td>1</td>\n",
       "      <td>1</td>\n",
       "      <td>44</td>\n",
       "      <td>44</td>\n",
       "      <td>2</td>\n",
       "      <td>3.0</td>\n",
       "      <td>1.0</td>\n",
       "      <td>...</td>\n",
       "      <td>484</td>\n",
       "      <td>56</td>\n",
       "      <td>3</td>\n",
       "      <td>393</td>\n",
       "      <td>5</td>\n",
       "      <td>741</td>\n",
       "      <td>20</td>\n",
       "      <td>5606</td>\n",
       "      <td>9483</td>\n",
       "      <td>3198</td>\n",
       "    </tr>\n",
       "    <tr>\n",
       "      <th>...</th>\n",
       "      <td>...</td>\n",
       "      <td>...</td>\n",
       "      <td>...</td>\n",
       "      <td>...</td>\n",
       "      <td>...</td>\n",
       "      <td>...</td>\n",
       "      <td>...</td>\n",
       "      <td>...</td>\n",
       "      <td>...</td>\n",
       "      <td>...</td>\n",
       "      <td>...</td>\n",
       "      <td>...</td>\n",
       "      <td>...</td>\n",
       "      <td>...</td>\n",
       "      <td>...</td>\n",
       "      <td>...</td>\n",
       "      <td>...</td>\n",
       "      <td>...</td>\n",
       "      <td>...</td>\n",
       "      <td>...</td>\n",
       "      <td>...</td>\n",
       "    </tr>\n",
       "    <tr>\n",
       "      <th>21795</th>\n",
       "      <td>72678</td>\n",
       "      <td>6</td>\n",
       "      <td>2990</td>\n",
       "      <td>0</td>\n",
       "      <td>1</td>\n",
       "      <td>53</td>\n",
       "      <td>53</td>\n",
       "      <td>1</td>\n",
       "      <td>3.0</td>\n",
       "      <td>1.0</td>\n",
       "      <td>...</td>\n",
       "      <td>788</td>\n",
       "      <td>102</td>\n",
       "      <td>1</td>\n",
       "      <td>413</td>\n",
       "      <td>3</td>\n",
       "      <td>791</td>\n",
       "      <td>23</td>\n",
       "      <td>5661</td>\n",
       "      <td>7362</td>\n",
       "      <td>3198</td>\n",
       "    </tr>\n",
       "    <tr>\n",
       "      <th>21796</th>\n",
       "      <td>72679</td>\n",
       "      <td>12</td>\n",
       "      <td>84</td>\n",
       "      <td>0</td>\n",
       "      <td>1</td>\n",
       "      <td>41</td>\n",
       "      <td>41</td>\n",
       "      <td>3</td>\n",
       "      <td>3.0</td>\n",
       "      <td>2.0</td>\n",
       "      <td>...</td>\n",
       "      <td>227</td>\n",
       "      <td>72</td>\n",
       "      <td>8</td>\n",
       "      <td>210</td>\n",
       "      <td>16</td>\n",
       "      <td>369</td>\n",
       "      <td>110</td>\n",
       "      <td>2630</td>\n",
       "      <td>15593</td>\n",
       "      <td>1895</td>\n",
       "    </tr>\n",
       "    <tr>\n",
       "      <th>21797</th>\n",
       "      <td>72680</td>\n",
       "      <td>22</td>\n",
       "      <td>2108</td>\n",
       "      <td>0</td>\n",
       "      <td>1</td>\n",
       "      <td>59</td>\n",
       "      <td>59</td>\n",
       "      <td>2</td>\n",
       "      <td>11.0</td>\n",
       "      <td>4.0</td>\n",
       "      <td>...</td>\n",
       "      <td>101</td>\n",
       "      <td>45</td>\n",
       "      <td>2</td>\n",
       "      <td>11</td>\n",
       "      <td>6</td>\n",
       "      <td>139</td>\n",
       "      <td>26</td>\n",
       "      <td>1409</td>\n",
       "      <td>15593</td>\n",
       "      <td>291</td>\n",
       "    </tr>\n",
       "    <tr>\n",
       "      <th>21798</th>\n",
       "      <td>72681</td>\n",
       "      <td>1</td>\n",
       "      <td>340</td>\n",
       "      <td>0</td>\n",
       "      <td>1</td>\n",
       "      <td>24</td>\n",
       "      <td>24</td>\n",
       "      <td>1</td>\n",
       "      <td>0</td>\n",
       "      <td>0.0</td>\n",
       "      <td>...</td>\n",
       "      <td>3875</td>\n",
       "      <td>358</td>\n",
       "      <td>24</td>\n",
       "      <td>9703</td>\n",
       "      <td>24</td>\n",
       "      <td>9703</td>\n",
       "      <td>73</td>\n",
       "      <td>27336</td>\n",
       "      <td>8545</td>\n",
       "      <td>60121</td>\n",
       "    </tr>\n",
       "    <tr>\n",
       "      <th>21799</th>\n",
       "      <td>72682</td>\n",
       "      <td>9</td>\n",
       "      <td>944</td>\n",
       "      <td>0</td>\n",
       "      <td>0</td>\n",
       "      <td>57</td>\n",
       "      <td>21</td>\n",
       "      <td>1</td>\n",
       "      <td>6.0</td>\n",
       "      <td>3.0</td>\n",
       "      <td>...</td>\n",
       "      <td>1375</td>\n",
       "      <td>88</td>\n",
       "      <td>1</td>\n",
       "      <td>251</td>\n",
       "      <td>17</td>\n",
       "      <td>1560</td>\n",
       "      <td>58</td>\n",
       "      <td>6562</td>\n",
       "      <td>3</td>\n",
       "      <td>2609</td>\n",
       "    </tr>\n",
       "  </tbody>\n",
       "</table>\n",
       "<p>72682 rows × 25 columns</p>\n",
       "</div>"
      ],
      "text/plain": [
       "          ID  City_Code  Region_Code  Accomodation_Type  Reco_Insurance_Type  \\\n",
       "0          1          3         3213                  1                    1   \n",
       "1          2          5         1117                  0                    0   \n",
       "2          3          5         3732                  0                    1   \n",
       "3          4         24         4378                  0                    0   \n",
       "4          5          8         2190                  1                    1   \n",
       "...      ...        ...          ...                ...                  ...   \n",
       "21795  72678          6         2990                  0                    1   \n",
       "21796  72679         12           84                  0                    1   \n",
       "21797  72680         22         2108                  0                    1   \n",
       "21798  72681          1          340                  0                    1   \n",
       "21799  72682          9          944                  0                    0   \n",
       "\n",
       "       Upper_Age  Lower_Age  Health_Indicator Holding_Policy_Duration  \\\n",
       "0             36         36                 1                      15   \n",
       "1             75         22                 2                       0   \n",
       "2             32         32                 1                     1.0   \n",
       "3             52         48                 1                      15   \n",
       "4             44         44                 2                     3.0   \n",
       "...          ...        ...               ...                     ...   \n",
       "21795         53         53                 1                     3.0   \n",
       "21796         41         41                 3                     3.0   \n",
       "21797         59         59                 2                    11.0   \n",
       "21798         24         24                 1                       0   \n",
       "21799         57         21                 1                     6.0   \n",
       "\n",
       "       Holding_Policy_Type  ...  healthInd_cityCode_polCat  \\\n",
       "0                      3.0  ...                       1131   \n",
       "1                      0.0  ...                        214   \n",
       "2                      1.0  ...                        238   \n",
       "3                      3.0  ...                        177   \n",
       "4                      1.0  ...                        484   \n",
       "...                    ...  ...                        ...   \n",
       "21795                  1.0  ...                        788   \n",
       "21796                  2.0  ...                        227   \n",
       "21797                  4.0  ...                        101   \n",
       "21798                  0.0  ...                       3875   \n",
       "21799                  3.0  ...                       1375   \n",
       "\n",
       "       recPolCat_rCode_cCode_healthInd  healthInd_rCode_polDuration  \\\n",
       "0                                  117                            3   \n",
       "1                                   66                           18   \n",
       "2                                   24                            2   \n",
       "3                                   36                            4   \n",
       "4                                   56                            3   \n",
       "...                                ...                          ...   \n",
       "21795                              102                            1   \n",
       "21796                               72                            8   \n",
       "21797                               45                            2   \n",
       "21798                              358                           24   \n",
       "21799                               88                            1   \n",
       "\n",
       "       healthInd_cityCode_polDuration  healthInd_rCode_holdingpolType  \\\n",
       "0                                1223                               1   \n",
       "1                                1608                              18   \n",
       "2                                 454                               6   \n",
       "3                                 152                               3   \n",
       "4                                 393                               5   \n",
       "...                               ...                             ...   \n",
       "21795                             413                               3   \n",
       "21796                             210                              16   \n",
       "21797                              11                               6   \n",
       "21798                            9703                              24   \n",
       "21799                             251                              17   \n",
       "\n",
       "       healthInd_cityCode_holdingpolType  healthInd_rCode  healthInd_cityCode  \\\n",
       "0                                   3854               15               14373   \n",
       "1                                   1608               45                4075   \n",
       "2                                    782               11                4075   \n",
       "3                                    319                9                1864   \n",
       "4                                    741               20                5606   \n",
       "...                                  ...              ...                 ...   \n",
       "21795                                791               23                5661   \n",
       "21796                                369              110                2630   \n",
       "21797                                139               26                1409   \n",
       "21798                               9703               73               27336   \n",
       "21799                               1560               58                6562   \n",
       "\n",
       "       diffAge_recoInsType_recoPolicyCat  healthInd_holdPolDur_holdingpolType  \n",
       "0                                  15593                                 6877  \n",
       "1                                      4                                60121  \n",
       "2                                   8545                                 5081  \n",
       "3                                    217                                 6877  \n",
       "4                                   9483                                 3198  \n",
       "...                                  ...                                  ...  \n",
       "21795                               7362                                 3198  \n",
       "21796                              15593                                 1895  \n",
       "21797                              15593                                  291  \n",
       "21798                               8545                                60121  \n",
       "21799                                  3                                 2609  \n",
       "\n",
       "[72682 rows x 25 columns]"
      ]
     },
     "execution_count": 72,
     "metadata": {},
     "output_type": "execute_result"
    }
   ],
   "source": [
    "complete_data.head(-5)"
   ]
  },
  {
   "cell_type": "markdown",
   "metadata": {},
   "source": [
    "### ___Frequency Encoding was tried on few attributes and finally concluded that when its applied on City_Code,Reco_Policy_Cat and Reco_Policy_Premium , they were adding value to the model in predicting the target Variable___"
   ]
  },
  {
   "cell_type": "code",
   "execution_count": 73,
   "metadata": {},
   "outputs": [],
   "source": [
    "#complete_data.loc[(complete_data['age_diff'] >= 1) & (complete_data['age_diff'] <= 30), 'Cust_Age_Cat'] = 3 \n",
    "#complete_data.loc[(complete_data['age_diff'] >= 31) & (complete_data['age_diff'] <= 70), 'Cust_Age_Cat'] = 4\n",
    "frequency_encoding = complete_data.groupby([\"City_Code\"]).size()/len(complete_data)\n",
    "complete_data[\"City_Code_f\"]   = complete_data[\"City_Code\"].map(frequency_encoding)"
   ]
  },
  {
   "cell_type": "code",
   "execution_count": 74,
   "metadata": {},
   "outputs": [],
   "source": [
    "#complete_data.loc[(complete_data['age_diff'] >= 1) & (complete_data['age_diff'] <= 30), 'Cust_Age_Cat'] = 3 \n",
    "#complete_data.loc[(complete_data['age_diff'] >= 31) & (complete_data['age_diff'] <= 70), 'Cust_Age_Cat'] = 4\n",
    "frequency_encoding = complete_data.groupby([\"Reco_Policy_Cat\"]).size()/len(complete_data)\n",
    "complete_data[\"Reco_Policy_Cat_f\"]   = complete_data[\"Reco_Policy_Cat\"].map(frequency_encoding)"
   ]
  },
  {
   "cell_type": "code",
   "execution_count": 75,
   "metadata": {},
   "outputs": [],
   "source": [
    "frequency_encoding = complete_data.groupby([\"Reco_Policy_Premium\"]).size()/len(complete_data)\n",
    "complete_data[\"Reco_Policy_Premium_f\"]   = complete_data[\"Reco_Policy_Premium\"].map(frequency_encoding)"
   ]
  },
  {
   "cell_type": "code",
   "execution_count": 76,
   "metadata": {},
   "outputs": [
    {
     "data": {
      "text/plain": [
       "Index(['ID', 'City_Code', 'Region_Code', 'Accomodation_Type',\n",
       "       'Reco_Insurance_Type', 'Upper_Age', 'Lower_Age', 'Health_Indicator',\n",
       "       'Holding_Policy_Duration', 'Holding_Policy_Type', 'Reco_Policy_Cat',\n",
       "       'Reco_Policy_Premium', 'Response', 'age_diff', 'healthInd_rCode_polCat',\n",
       "       'healthInd_cityCode_polCat', 'recPolCat_rCode_cCode_healthInd',\n",
       "       'healthInd_rCode_polDuration', 'healthInd_cityCode_polDuration',\n",
       "       'healthInd_rCode_holdingpolType', 'healthInd_cityCode_holdingpolType',\n",
       "       'healthInd_rCode', 'healthInd_cityCode',\n",
       "       'diffAge_recoInsType_recoPolicyCat',\n",
       "       'healthInd_holdPolDur_holdingpolType', 'City_Code_f',\n",
       "       'Reco_Policy_Cat_f', 'Reco_Policy_Premium_f'],\n",
       "      dtype='object')"
      ]
     },
     "execution_count": 76,
     "metadata": {},
     "output_type": "execute_result"
    }
   ],
   "source": [
    "# Getting back Train and Test after Preprocessing :\n",
    "train=complete_data[complete_data['Response'].isnull()==False]\n",
    "test=complete_data[complete_data['Response'].isnull()==True].drop(['Response'],axis=1)\n",
    "train.columns"
   ]
  },
  {
   "cell_type": "code",
   "execution_count": 77,
   "metadata": {},
   "outputs": [
    {
     "name": "stdout",
     "output_type": "stream",
     "text": [
      "<class 'pandas.core.frame.DataFrame'>\n",
      "Int64Index: 21805 entries, 0 to 21804\n",
      "Data columns (total 27 columns):\n",
      " #   Column                               Non-Null Count  Dtype  \n",
      "---  ------                               --------------  -----  \n",
      " 0   ID                                   21805 non-null  int64  \n",
      " 1   City_Code                            21805 non-null  int64  \n",
      " 2   Region_Code                          21805 non-null  int64  \n",
      " 3   Accomodation_Type                    21805 non-null  int64  \n",
      " 4   Reco_Insurance_Type                  21805 non-null  int64  \n",
      " 5   Upper_Age                            21805 non-null  int64  \n",
      " 6   Lower_Age                            21805 non-null  int64  \n",
      " 7   Health_Indicator                     21805 non-null  int64  \n",
      " 8   Holding_Policy_Duration              21805 non-null  object \n",
      " 9   Holding_Policy_Type                  21805 non-null  float64\n",
      " 10  Reco_Policy_Cat                      21805 non-null  int64  \n",
      " 11  Reco_Policy_Premium                  21805 non-null  float64\n",
      " 12  age_diff                             21805 non-null  int64  \n",
      " 13  healthInd_rCode_polCat               21805 non-null  int64  \n",
      " 14  healthInd_cityCode_polCat            21805 non-null  int64  \n",
      " 15  recPolCat_rCode_cCode_healthInd      21805 non-null  int64  \n",
      " 16  healthInd_rCode_polDuration          21805 non-null  int64  \n",
      " 17  healthInd_cityCode_polDuration       21805 non-null  int64  \n",
      " 18  healthInd_rCode_holdingpolType       21805 non-null  int64  \n",
      " 19  healthInd_cityCode_holdingpolType    21805 non-null  int64  \n",
      " 20  healthInd_rCode                      21805 non-null  int64  \n",
      " 21  healthInd_cityCode                   21805 non-null  int64  \n",
      " 22  diffAge_recoInsType_recoPolicyCat    21805 non-null  int64  \n",
      " 23  healthInd_holdPolDur_holdingpolType  21805 non-null  int64  \n",
      " 24  City_Code_f                          21805 non-null  float64\n",
      " 25  Reco_Policy_Cat_f                    21805 non-null  float64\n",
      " 26  Reco_Policy_Premium_f                21805 non-null  float64\n",
      "dtypes: float64(5), int64(21), object(1)\n",
      "memory usage: 4.7+ MB\n"
     ]
    }
   ],
   "source": [
    "test.info()"
   ]
  },
  {
   "cell_type": "code",
   "execution_count": 78,
   "metadata": {},
   "outputs": [
    {
     "data": {
      "text/plain": [
       "Index(['ID', 'City_Code', 'Region_Code', 'Accomodation_Type',\n",
       "       'Reco_Insurance_Type', 'Upper_Age', 'Lower_Age', 'Health_Indicator',\n",
       "       'Holding_Policy_Duration', 'Holding_Policy_Type', 'Reco_Policy_Cat',\n",
       "       'Reco_Policy_Premium', 'Response', 'age_diff', 'healthInd_rCode_polCat',\n",
       "       'healthInd_cityCode_polCat', 'recPolCat_rCode_cCode_healthInd',\n",
       "       'healthInd_rCode_polDuration', 'healthInd_cityCode_polDuration',\n",
       "       'healthInd_rCode_holdingpolType', 'healthInd_cityCode_holdingpolType',\n",
       "       'healthInd_rCode', 'healthInd_cityCode',\n",
       "       'diffAge_recoInsType_recoPolicyCat',\n",
       "       'healthInd_holdPolDur_holdingpolType', 'City_Code_f',\n",
       "       'Reco_Policy_Cat_f', 'Reco_Policy_Premium_f'],\n",
       "      dtype='object')"
      ]
     },
     "execution_count": 78,
     "metadata": {},
     "output_type": "execute_result"
    }
   ],
   "source": [
    "train.columns"
   ]
  },
  {
   "cell_type": "code",
   "execution_count": 79,
   "metadata": {},
   "outputs": [
    {
     "name": "stdout",
     "output_type": "stream",
     "text": [
      "<class 'pandas.core.frame.DataFrame'>\n",
      "Int64Index: 50882 entries, 0 to 50881\n",
      "Data columns (total 28 columns):\n",
      " #   Column                               Non-Null Count  Dtype  \n",
      "---  ------                               --------------  -----  \n",
      " 0   ID                                   50882 non-null  int64  \n",
      " 1   City_Code                            50882 non-null  int64  \n",
      " 2   Region_Code                          50882 non-null  int64  \n",
      " 3   Accomodation_Type                    50882 non-null  int64  \n",
      " 4   Reco_Insurance_Type                  50882 non-null  int64  \n",
      " 5   Upper_Age                            50882 non-null  int64  \n",
      " 6   Lower_Age                            50882 non-null  int64  \n",
      " 7   Health_Indicator                     50882 non-null  int64  \n",
      " 8   Holding_Policy_Duration              50882 non-null  object \n",
      " 9   Holding_Policy_Type                  50882 non-null  float64\n",
      " 10  Reco_Policy_Cat                      50882 non-null  int64  \n",
      " 11  Reco_Policy_Premium                  50882 non-null  float64\n",
      " 12  Response                             50882 non-null  float64\n",
      " 13  age_diff                             50882 non-null  int64  \n",
      " 14  healthInd_rCode_polCat               50882 non-null  int64  \n",
      " 15  healthInd_cityCode_polCat            50882 non-null  int64  \n",
      " 16  recPolCat_rCode_cCode_healthInd      50882 non-null  int64  \n",
      " 17  healthInd_rCode_polDuration          50882 non-null  int64  \n",
      " 18  healthInd_cityCode_polDuration       50882 non-null  int64  \n",
      " 19  healthInd_rCode_holdingpolType       50882 non-null  int64  \n",
      " 20  healthInd_cityCode_holdingpolType    50882 non-null  int64  \n",
      " 21  healthInd_rCode                      50882 non-null  int64  \n",
      " 22  healthInd_cityCode                   50882 non-null  int64  \n",
      " 23  diffAge_recoInsType_recoPolicyCat    50882 non-null  int64  \n",
      " 24  healthInd_holdPolDur_holdingpolType  50882 non-null  int64  \n",
      " 25  City_Code_f                          50882 non-null  float64\n",
      " 26  Reco_Policy_Cat_f                    50882 non-null  float64\n",
      " 27  Reco_Policy_Premium_f                50882 non-null  float64\n",
      "dtypes: float64(6), int64(21), object(1)\n",
      "memory usage: 11.3+ MB\n"
     ]
    }
   ],
   "source": [
    "train.info()"
   ]
  },
  {
   "cell_type": "code",
   "execution_count": 80,
   "metadata": {},
   "outputs": [
    {
     "name": "stdout",
     "output_type": "stream",
     "text": [
      "<class 'pandas.core.frame.DataFrame'>\n",
      "Int64Index: 21805 entries, 0 to 21804\n",
      "Data columns (total 27 columns):\n",
      " #   Column                               Non-Null Count  Dtype  \n",
      "---  ------                               --------------  -----  \n",
      " 0   ID                                   21805 non-null  int64  \n",
      " 1   City_Code                            21805 non-null  int64  \n",
      " 2   Region_Code                          21805 non-null  int64  \n",
      " 3   Accomodation_Type                    21805 non-null  int64  \n",
      " 4   Reco_Insurance_Type                  21805 non-null  int64  \n",
      " 5   Upper_Age                            21805 non-null  int64  \n",
      " 6   Lower_Age                            21805 non-null  int64  \n",
      " 7   Health_Indicator                     21805 non-null  int64  \n",
      " 8   Holding_Policy_Duration              21805 non-null  object \n",
      " 9   Holding_Policy_Type                  21805 non-null  float64\n",
      " 10  Reco_Policy_Cat                      21805 non-null  int64  \n",
      " 11  Reco_Policy_Premium                  21805 non-null  float64\n",
      " 12  age_diff                             21805 non-null  int64  \n",
      " 13  healthInd_rCode_polCat               21805 non-null  int64  \n",
      " 14  healthInd_cityCode_polCat            21805 non-null  int64  \n",
      " 15  recPolCat_rCode_cCode_healthInd      21805 non-null  int64  \n",
      " 16  healthInd_rCode_polDuration          21805 non-null  int64  \n",
      " 17  healthInd_cityCode_polDuration       21805 non-null  int64  \n",
      " 18  healthInd_rCode_holdingpolType       21805 non-null  int64  \n",
      " 19  healthInd_cityCode_holdingpolType    21805 non-null  int64  \n",
      " 20  healthInd_rCode                      21805 non-null  int64  \n",
      " 21  healthInd_cityCode                   21805 non-null  int64  \n",
      " 22  diffAge_recoInsType_recoPolicyCat    21805 non-null  int64  \n",
      " 23  healthInd_holdPolDur_holdingpolType  21805 non-null  int64  \n",
      " 24  City_Code_f                          21805 non-null  float64\n",
      " 25  Reco_Policy_Cat_f                    21805 non-null  float64\n",
      " 26  Reco_Policy_Premium_f                21805 non-null  float64\n",
      "dtypes: float64(5), int64(21), object(1)\n",
      "memory usage: 4.7+ MB\n"
     ]
    }
   ],
   "source": [
    "test.info()"
   ]
  },
  {
   "cell_type": "markdown",
   "metadata": {},
   "source": [
    "### ___Target Encoding was tried on few attributes and finally concluded that Reco_Policy_Cat was adding value to the model in predicting the target Variable___"
   ]
  },
  {
   "cell_type": "code",
   "execution_count": 81,
   "metadata": {},
   "outputs": [],
   "source": [
    "def add_noise(series, noise_level):\n",
    "    return series * (1 + noise_level * np.random.randn(len(series)))\n",
    "\n",
    "def target_encode(trn_series=None, \n",
    "                  tst_series=None, \n",
    "                  target=None, \n",
    "                  min_samples_leaf=1, \n",
    "                  smoothing=1,\n",
    "                  noise_level=0):\n",
    "    \"\"\"\n",
    "    Smoothing is computed like in the following paper by Daniele Micci-Barreca\n",
    "    https://kaggle2.blob.core.windows.net/forum-message-attachments/225952/7441/high%20cardinality%20categoricals.pdf\n",
    "    trn_series : training categorical feature as a pd.Series\n",
    "    tst_series : test categorical feature as a pd.Series\n",
    "    target : target data as a pd.Series\n",
    "    min_samples_leaf (int) : minimum samples to take category average into account\n",
    "    smoothing (int) : smoothing effect to balance categorical average vs prior  \n",
    "    \"\"\" \n",
    "    assert len(trn_series) == len(target)\n",
    "    assert trn_series.name == tst_series.name\n",
    "    temp = pd.concat([trn_series, target], axis=1)\n",
    "    # Compute target mean \n",
    "    averages = temp.groupby(by=trn_series.name)[target.name].agg([\"mean\", \"count\"])\n",
    "    # Compute smoothing\n",
    "    smoothing = 1 / (1 + np.exp(-(averages[\"count\"] - min_samples_leaf) / smoothing))\n",
    "    # Apply average function to all target data\n",
    "    prior = target.mean()\n",
    "    # The bigger the count the less full_avg is taken into account\n",
    "    averages[target.name] = prior * (1 - smoothing) + averages[\"mean\"] * smoothing\n",
    "    averages.drop([\"mean\", \"count\"], axis=1, inplace=True)\n",
    "    # Apply averages to trn and tst series\n",
    "    ft_trn_series = pd.merge(\n",
    "        trn_series.to_frame(trn_series.name),\n",
    "        averages.reset_index().rename(columns={'index': target.name, target.name: 'average'}),\n",
    "        on=trn_series.name,\n",
    "        how='left')['average'].rename(trn_series.name + '_mean').fillna(prior)\n",
    "    # pd.merge does not keep the index so restore it\n",
    "    ft_trn_series.index = trn_series.index \n",
    "    ft_tst_series = pd.merge(\n",
    "        tst_series.to_frame(tst_series.name),\n",
    "        averages.reset_index().rename(columns={'index': target.name, target.name: 'average'}),\n",
    "        on=tst_series.name,\n",
    "        how='left')['average'].rename(trn_series.name + '_mean').fillna(prior)\n",
    "    # pd.merge does not keep the index so restore it\n",
    "    ft_tst_series.index = tst_series.index\n",
    "    return add_noise(ft_trn_series, noise_level), add_noise(ft_tst_series, noise_level)\n",
    "\n",
    "tr_g, te_g = target_encode(train[\"Reco_Policy_Cat\"], \n",
    "                         test[\"Reco_Policy_Cat\"],\n",
    "                         target=train[\"Response\"], \n",
    "                         min_samples_leaf=200,\n",
    "                         smoothing=20,\n",
    "                         noise_level=0.02)\n",
    "\n",
    "train['Reco_Policy_Cat_tarEn']=tr_g\n",
    "test['Reco_Policy_Cat_tarEn']=te_g"
   ]
  },
  {
   "cell_type": "code",
   "execution_count": 82,
   "metadata": {},
   "outputs": [
    {
     "data": {
      "text/plain": [
       "Index(['ID', 'City_Code', 'Region_Code', 'Accomodation_Type',\n",
       "       'Reco_Insurance_Type', 'Upper_Age', 'Lower_Age', 'Health_Indicator',\n",
       "       'Holding_Policy_Duration', 'Holding_Policy_Type', 'Reco_Policy_Cat',\n",
       "       'Reco_Policy_Premium', 'Response', 'age_diff', 'healthInd_rCode_polCat',\n",
       "       'healthInd_cityCode_polCat', 'recPolCat_rCode_cCode_healthInd',\n",
       "       'healthInd_rCode_polDuration', 'healthInd_cityCode_polDuration',\n",
       "       'healthInd_rCode_holdingpolType', 'healthInd_cityCode_holdingpolType',\n",
       "       'healthInd_rCode', 'healthInd_cityCode',\n",
       "       'diffAge_recoInsType_recoPolicyCat',\n",
       "       'healthInd_holdPolDur_holdingpolType', 'City_Code_f',\n",
       "       'Reco_Policy_Cat_f', 'Reco_Policy_Premium_f', 'Reco_Policy_Cat_tarEn'],\n",
       "      dtype='object')"
      ]
     },
     "execution_count": 82,
     "metadata": {},
     "output_type": "execute_result"
    }
   ],
   "source": [
    "train.columns"
   ]
  },
  {
   "cell_type": "code",
   "execution_count": 83,
   "metadata": {},
   "outputs": [
    {
     "data": {
      "text/plain": [
       "Index(['ID', 'City_Code', 'Region_Code', 'Accomodation_Type',\n",
       "       'Reco_Insurance_Type', 'Upper_Age', 'Lower_Age', 'Health_Indicator',\n",
       "       'Holding_Policy_Duration', 'Holding_Policy_Type', 'Reco_Policy_Cat',\n",
       "       'Reco_Policy_Premium', 'age_diff', 'healthInd_rCode_polCat',\n",
       "       'healthInd_cityCode_polCat', 'recPolCat_rCode_cCode_healthInd',\n",
       "       'healthInd_rCode_polDuration', 'healthInd_cityCode_polDuration',\n",
       "       'healthInd_rCode_holdingpolType', 'healthInd_cityCode_holdingpolType',\n",
       "       'healthInd_rCode', 'healthInd_cityCode',\n",
       "       'diffAge_recoInsType_recoPolicyCat',\n",
       "       'healthInd_holdPolDur_holdingpolType', 'City_Code_f',\n",
       "       'Reco_Policy_Cat_f', 'Reco_Policy_Premium_f', 'Reco_Policy_Cat_tarEn'],\n",
       "      dtype='object')"
      ]
     },
     "execution_count": 83,
     "metadata": {},
     "output_type": "execute_result"
    }
   ],
   "source": [
    "test.columns"
   ]
  },
  {
   "cell_type": "markdown",
   "metadata": {},
   "source": [
    "### Step 6: Building Model"
   ]
  },
  {
   "cell_type": "markdown",
   "metadata": {},
   "source": [
    "### __We will create XGB Model with K-Folds Cross Validation to predict the Target variable__"
   ]
  },
  {
   "cell_type": "code",
   "execution_count": 84,
   "metadata": {},
   "outputs": [],
   "source": [
    "from sklearn import preprocessing\n",
    "lbl = preprocessing.LabelEncoder()\n",
    "\n",
    "train['Holding_Policy_Duration'] = lbl.fit_transform(train['Holding_Policy_Duration'].astype(str))\n",
    "test['Holding_Policy_Duration'] = lbl.fit_transform(test['Holding_Policy_Duration'].astype(str))\n"
   ]
  },
  {
   "cell_type": "code",
   "execution_count": 85,
   "metadata": {},
   "outputs": [],
   "source": [
    "# Create x and Y\n",
    "y = train[\"Response\"]\n",
    "# Dropping ID and Lower_Age from Train DataSet\n",
    "X = train.drop([\"Response\",\"ID\",\"Lower_Age\"], axis=1)"
   ]
  },
  {
   "cell_type": "code",
   "execution_count": 86,
   "metadata": {},
   "outputs": [],
   "source": [
    "# Dropping ID and Lower_Age from Test DataSet\n",
    "test = test.drop([\"ID\",\"Lower_Age\"],axis=1)"
   ]
  },
  {
   "cell_type": "code",
   "execution_count": 87,
   "metadata": {},
   "outputs": [],
   "source": [
    "sub = pd.read_csv('sample_submission_QrCyCoT.csv')"
   ]
  },
  {
   "cell_type": "code",
   "execution_count": 88,
   "metadata": {},
   "outputs": [
    {
     "name": "stdout",
     "output_type": "stream",
     "text": [
      "\n",
      "Fold: 1\n",
      "\n",
      "[0]\tvalidation_0-auc:0.79660\tvalidation_1-auc:0.78299\n",
      "[100]\tvalidation_0-auc:0.90364\tvalidation_1-auc:0.80084\n",
      "[132]\tvalidation_0-auc:0.92228\tvalidation_1-auc:0.79981\n",
      "\n",
      "Fold: 2\n",
      "\n",
      "[0]\tvalidation_0-auc:0.79433\tvalidation_1-auc:0.78610\n",
      "[100]\tvalidation_0-auc:0.90805\tvalidation_1-auc:0.81090\n",
      "[170]\tvalidation_0-auc:0.94362\tvalidation_1-auc:0.80847\n",
      "\n",
      "Fold: 3\n",
      "\n",
      "[0]\tvalidation_0-auc:0.79575\tvalidation_1-auc:0.77453\n",
      "[100]\tvalidation_0-auc:0.90448\tvalidation_1-auc:0.79889\n",
      "[181]\tvalidation_0-auc:0.94402\tvalidation_1-auc:0.79554\n",
      "\n",
      "Fold: 4\n",
      "\n",
      "[0]\tvalidation_0-auc:0.79515\tvalidation_1-auc:0.77904\n",
      "[100]\tvalidation_0-auc:0.90646\tvalidation_1-auc:0.80136\n",
      "[182]\tvalidation_0-auc:0.94996\tvalidation_1-auc:0.79883\n",
      "\n",
      "Fold: 5\n",
      "\n",
      "[0]\tvalidation_0-auc:0.79520\tvalidation_1-auc:0.76958\n",
      "[100]\tvalidation_0-auc:0.90849\tvalidation_1-auc:0.79806\n",
      "[152]\tvalidation_0-auc:0.93561\tvalidation_1-auc:0.79563\n",
      "\n",
      "Fold: 6\n",
      "\n",
      "[0]\tvalidation_0-auc:0.79519\tvalidation_1-auc:0.78204\n",
      "[100]\tvalidation_0-auc:0.90632\tvalidation_1-auc:0.79470\n",
      "[173]\tvalidation_0-auc:0.94364\tvalidation_1-auc:0.78927\n",
      "\n",
      "Fold: 7\n",
      "\n",
      "[0]\tvalidation_0-auc:0.79332\tvalidation_1-auc:0.78237\n",
      "[100]\tvalidation_0-auc:0.90668\tvalidation_1-auc:0.80469\n",
      "[184]\tvalidation_0-auc:0.95147\tvalidation_1-auc:0.79903\n",
      "\n",
      "Fold: 8\n",
      "\n",
      "[0]\tvalidation_0-auc:0.79773\tvalidation_1-auc:0.76565\n",
      "[100]\tvalidation_0-auc:0.90809\tvalidation_1-auc:0.78096\n",
      "[132]\tvalidation_0-auc:0.92566\tvalidation_1-auc:0.77895\n",
      "\n",
      "Fold: 9\n",
      "\n",
      "[0]\tvalidation_0-auc:0.79520\tvalidation_1-auc:0.77431\n",
      "[100]\tvalidation_0-auc:0.90657\tvalidation_1-auc:0.80102\n",
      "[140]\tvalidation_0-auc:0.92864\tvalidation_1-auc:0.79968\n",
      "\n",
      "Fold: 10\n",
      "\n",
      "[0]\tvalidation_0-auc:0.79556\tvalidation_1-auc:0.78405\n",
      "[100]\tvalidation_0-auc:0.90509\tvalidation_1-auc:0.80568\n",
      "[157]\tvalidation_0-auc:0.93647\tvalidation_1-auc:0.80500\n",
      "\n",
      "Fold: 10\n",
      "\n"
     ]
    }
   ],
   "source": [
    "from sklearn.model_selection import StratifiedKFold, KFold\n",
    "# XGBOOST Model\n",
    "kf=KFold(n_splits=10,shuffle=True)\n",
    "preds_3   = list()\n",
    "y_pred_3  = []\n",
    "rocauc_score = []\n",
    "for i,(train_idx,val_idx) in enumerate(kf.split(X)):\n",
    "    X_train, y_train = X.iloc[train_idx,:], y.iloc[train_idx]\n",
    "    X_val, y_val = X.iloc[val_idx, :], y.iloc[val_idx]\n",
    "    print('\\nFold: {}\\n'.format(i+1))\n",
    "    xg=XGBClassifier( eval_metric='auc',\n",
    "                     # GPU PARAMETERS #\n",
    "                     tree_method='hist',\n",
    "                     ###gpu_id=0,\n",
    "                     # GPU PARAMETERS #\n",
    "                     random_state=294,\n",
    "                     learning_rate=0.15,\n",
    "                     max_depth=7,\n",
    "                     n_estimators=494,\n",
    "                     objective='binary:logistic')\n",
    "    xg.fit(X_train, y_train\n",
    "           ,eval_set=[(X_train, y_train),(X_val, y_val)]\n",
    "           ,early_stopping_rounds=100\n",
    "           ,verbose=100)\n",
    "\n",
    "    \n",
    "    roc_auc = roc_auc_score(y_val,xg.predict_proba(X_val)[:, 1])\n",
    "    rocauc_score.append(roc_auc)\n",
    "    preds_3.append(xg.predict_proba(test [test.columns])[:, 1])\n",
    "print('\\nFold: {}\\n'.format(i+1))\n",
    "y_pred_final_3         = np.mean(preds_3,axis=0)\n",
    "sub['Response']=y_pred_final_3"
   ]
  },
  {
   "cell_type": "code",
   "execution_count": 89,
   "metadata": {},
   "outputs": [
    {
     "data": {
      "text/plain": [
       "healthInd_rCode_polCat                 0.206472\n",
       "Reco_Policy_Cat                        0.084587\n",
       "healthInd_rCode                        0.068526\n",
       "Reco_Policy_Cat_tarEn                  0.046530\n",
       "Reco_Policy_Cat_f                      0.040056\n",
       "City_Code_f                            0.034550\n",
       "healthInd_cityCode_polCat              0.033248\n",
       "Region_Code                            0.032145\n",
       "City_Code                              0.031025\n",
       "healthInd_rCode_holdingpolType         0.028384\n",
       "diffAge_recoInsType_recoPolicyCat      0.028074\n",
       "healthInd_cityCode_holdingpolType      0.027154\n",
       "healthInd_cityCode                     0.026763\n",
       "healthInd_cityCode_polDuration         0.026352\n",
       "Reco_Policy_Premium_f                  0.026183\n",
       "recPolCat_rCode_cCode_healthInd        0.026025\n",
       "healthInd_holdPolDur_holdingpolType    0.025881\n",
       "Holding_Policy_Type                    0.025374\n",
       "Reco_Policy_Premium                    0.025221\n",
       "Health_Indicator                       0.024889\n",
       "healthInd_rCode_polDuration            0.024852\n",
       "Upper_Age                              0.024651\n",
       "Holding_Policy_Duration                0.024102\n",
       "Accomodation_Type                      0.021253\n",
       "age_diff                               0.020020\n",
       "Reco_Insurance_Type                    0.017684\n",
       "dtype: float32"
      ]
     },
     "execution_count": 89,
     "metadata": {},
     "output_type": "execute_result"
    }
   ],
   "source": [
    "#classifier = RandomForestClassifier(random_state=0)\n",
    "feature_imp = pd.Series(xg.feature_importances_,index=X.columns).sort_values(ascending=False)\n",
    "feature_imp"
   ]
  },
  {
   "cell_type": "code",
   "execution_count": 90,
   "metadata": {},
   "outputs": [],
   "source": [
    "submission = pd.read_csv('sample_submission_QrCyCoT.csv')\n",
    "\n",
    "submission['Response'] = y_pred_final_3\n",
    "\n",
    "submission.to_csv('my_submission_XGB_tarFreqEnc_Final.csv', index=False)"
   ]
  },
  {
   "cell_type": "code",
   "execution_count": 91,
   "metadata": {},
   "outputs": [
    {
     "name": "stdout",
     "output_type": "stream",
     "text": [
      "ROC_AUC - CV Score: 0.8015970883848988 \n",
      "\n",
      "Score :  [0.8049028841657392, 0.8136976341432911, 0.799479895098542, 0.8026515176844422, 0.7998961800604023, 0.7972739807805079, 0.8057306647379219, 0.7832152959017089, 0.8019749057204492, 0.8071479255559841]\n"
     ]
    }
   ],
   "source": [
    "print('ROC_AUC - CV Score: {}'.format((sum(rocauc_score)/10)),'\\n')\n",
    "print(\"Score : \",rocauc_score)"
   ]
  },
  {
   "cell_type": "markdown",
   "metadata": {},
   "source": [
    "### XGB Model is giving better result with an ROC_AUC_SCORE of 0.8015970883848988 \n",
    "#### This Model is by far much better than the AUC scores of the models that were generated prior to this using Logistic Regression,Decision Tree and XGB(All using gridsearch to find the Best Parameters)"
   ]
  },
  {
   "cell_type": "code",
   "execution_count": 92,
   "metadata": {},
   "outputs": [],
   "source": [
    "#final_predictions"
   ]
  },
  {
   "cell_type": "markdown",
   "metadata": {},
   "source": [
    "## How to Make a Submission?"
   ]
  },
  {
   "cell_type": "code",
   "execution_count": 93,
   "metadata": {},
   "outputs": [],
   "source": [
    "##from IPython.display import HTML\n",
    "\n",
    "##HTML('<iframe width=\"700\" height=\"380\" src=\"https://www.youtube.com/embed/zevnI9TgTtA\" frameborder=\"0\" allow=\"accelerometer; autoplay; clipboard-write; encrypted-media; gyroscope; picture-in-picture\" allowfullscreen></iframe>')    \n"
   ]
  },
  {
   "cell_type": "code",
   "execution_count": null,
   "metadata": {},
   "outputs": [],
   "source": []
  }
 ],
 "metadata": {
  "kernelspec": {
   "display_name": "Python 3",
   "language": "python",
   "name": "python3"
  },
  "language_info": {
   "codemirror_mode": {
    "name": "ipython",
    "version": 3
   },
   "file_extension": ".py",
   "mimetype": "text/x-python",
   "name": "python",
   "nbconvert_exporter": "python",
   "pygments_lexer": "ipython3",
   "version": "3.7.6"
  }
 },
 "nbformat": 4,
 "nbformat_minor": 2
}
